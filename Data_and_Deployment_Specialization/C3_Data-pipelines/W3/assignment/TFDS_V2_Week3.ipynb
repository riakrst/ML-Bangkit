{
  "cells": [
    {
      "cell_type": "markdown",
      "metadata": {
        "id": "view-in-github",
        "colab_type": "text"
      },
      "source": [
        "<a href=\"https://colab.research.google.com/github/riakrst/ML-Bangkit/blob/main/Data_and_Deployment_Specialization/C3_Data-pipelines/W3/assignment/TFDS_V2_Week3.ipynb\" target=\"_parent\"><img src=\"https://colab.research.google.com/assets/colab-badge.svg\" alt=\"Open In Colab\"/></a>"
      ]
    },
    {
      "cell_type": "markdown",
      "metadata": {
        "id": "c05P9g5WjizZ"
      },
      "source": [
        "# Classify Structured Data"
      ]
    },
    {
      "cell_type": "markdown",
      "metadata": {
        "id": "VxyBFc_kKazA"
      },
      "source": [
        "## Import TensorFlow and Other Libraries"
      ]
    },
    {
      "cell_type": "code",
      "execution_count": null,
      "metadata": {
        "id": "9dEreb4QKizj"
      },
      "outputs": [],
      "source": [
        "import pandas as pd\n",
        "import tensorflow as tf\n",
        "\n",
        "from tensorflow.keras import layers\n",
        "from tensorflow import feature_column\n",
        "\n",
        "from os import getcwd\n",
        "from sklearn.model_selection import train_test_split"
      ]
    },
    {
      "cell_type": "markdown",
      "metadata": {
        "id": "KCEhSZcULZ9n"
      },
      "source": [
        "## Use Pandas to Create a Dataframe\n",
        "\n",
        "[Pandas](https://pandas.pydata.org/) is a Python library with many helpful utilities for loading and working with structured data. We will use Pandas to download the dataset and load it into a dataframe."
      ]
    },
    {
      "cell_type": "code",
      "execution_count": null,
      "metadata": {
        "id": "REZ57BXCLdfG",
        "outputId": "61fbdeb1-f2be-4558-91e4-604df2ab41d1"
      },
      "outputs": [
        {
          "data": {
            "text/html": [
              "<div>\n",
              "<style scoped>\n",
              "    .dataframe tbody tr th:only-of-type {\n",
              "        vertical-align: middle;\n",
              "    }\n",
              "\n",
              "    .dataframe tbody tr th {\n",
              "        vertical-align: top;\n",
              "    }\n",
              "\n",
              "    .dataframe thead th {\n",
              "        text-align: right;\n",
              "    }\n",
              "</style>\n",
              "<table border=\"1\" class=\"dataframe\">\n",
              "  <thead>\n",
              "    <tr style=\"text-align: right;\">\n",
              "      <th></th>\n",
              "      <th>age</th>\n",
              "      <th>sex</th>\n",
              "      <th>cp</th>\n",
              "      <th>trestbps</th>\n",
              "      <th>chol</th>\n",
              "      <th>fbs</th>\n",
              "      <th>restecg</th>\n",
              "      <th>thalach</th>\n",
              "      <th>exang</th>\n",
              "      <th>oldpeak</th>\n",
              "      <th>slope</th>\n",
              "      <th>ca</th>\n",
              "      <th>thal</th>\n",
              "      <th>target</th>\n",
              "    </tr>\n",
              "  </thead>\n",
              "  <tbody>\n",
              "    <tr>\n",
              "      <th>0</th>\n",
              "      <td>63</td>\n",
              "      <td>1</td>\n",
              "      <td>1</td>\n",
              "      <td>145</td>\n",
              "      <td>233</td>\n",
              "      <td>1</td>\n",
              "      <td>2</td>\n",
              "      <td>150</td>\n",
              "      <td>0</td>\n",
              "      <td>2.3</td>\n",
              "      <td>3</td>\n",
              "      <td>0</td>\n",
              "      <td>fixed</td>\n",
              "      <td>0</td>\n",
              "    </tr>\n",
              "    <tr>\n",
              "      <th>1</th>\n",
              "      <td>67</td>\n",
              "      <td>1</td>\n",
              "      <td>4</td>\n",
              "      <td>160</td>\n",
              "      <td>286</td>\n",
              "      <td>0</td>\n",
              "      <td>2</td>\n",
              "      <td>108</td>\n",
              "      <td>1</td>\n",
              "      <td>1.5</td>\n",
              "      <td>2</td>\n",
              "      <td>3</td>\n",
              "      <td>normal</td>\n",
              "      <td>1</td>\n",
              "    </tr>\n",
              "    <tr>\n",
              "      <th>2</th>\n",
              "      <td>67</td>\n",
              "      <td>1</td>\n",
              "      <td>4</td>\n",
              "      <td>120</td>\n",
              "      <td>229</td>\n",
              "      <td>0</td>\n",
              "      <td>2</td>\n",
              "      <td>129</td>\n",
              "      <td>1</td>\n",
              "      <td>2.6</td>\n",
              "      <td>2</td>\n",
              "      <td>2</td>\n",
              "      <td>reversible</td>\n",
              "      <td>0</td>\n",
              "    </tr>\n",
              "    <tr>\n",
              "      <th>3</th>\n",
              "      <td>37</td>\n",
              "      <td>1</td>\n",
              "      <td>3</td>\n",
              "      <td>130</td>\n",
              "      <td>250</td>\n",
              "      <td>0</td>\n",
              "      <td>0</td>\n",
              "      <td>187</td>\n",
              "      <td>0</td>\n",
              "      <td>3.5</td>\n",
              "      <td>3</td>\n",
              "      <td>0</td>\n",
              "      <td>normal</td>\n",
              "      <td>0</td>\n",
              "    </tr>\n",
              "    <tr>\n",
              "      <th>4</th>\n",
              "      <td>41</td>\n",
              "      <td>0</td>\n",
              "      <td>2</td>\n",
              "      <td>130</td>\n",
              "      <td>204</td>\n",
              "      <td>0</td>\n",
              "      <td>2</td>\n",
              "      <td>172</td>\n",
              "      <td>0</td>\n",
              "      <td>1.4</td>\n",
              "      <td>1</td>\n",
              "      <td>0</td>\n",
              "      <td>normal</td>\n",
              "      <td>0</td>\n",
              "    </tr>\n",
              "  </tbody>\n",
              "</table>\n",
              "</div>"
            ],
            "text/plain": [
              "   age  sex  cp  trestbps  chol  fbs  restecg  thalach  exang  oldpeak  slope  \\\n",
              "0   63    1   1       145   233    1        2      150      0      2.3      3   \n",
              "1   67    1   4       160   286    0        2      108      1      1.5      2   \n",
              "2   67    1   4       120   229    0        2      129      1      2.6      2   \n",
              "3   37    1   3       130   250    0        0      187      0      3.5      3   \n",
              "4   41    0   2       130   204    0        2      172      0      1.4      1   \n",
              "\n",
              "   ca        thal  target  \n",
              "0   0       fixed       0  \n",
              "1   3      normal       1  \n",
              "2   2  reversible       0  \n",
              "3   0      normal       0  \n",
              "4   0      normal       0  "
            ]
          },
          "execution_count": 27,
          "metadata": {},
          "output_type": "execute_result"
        }
      ],
      "source": [
        "filePath = f\"{getcwd()}/data/heart.csv\"\n",
        "dataframe = pd.read_csv(filePath)\n",
        "dataframe.head()"
      ]
    },
    {
      "cell_type": "markdown",
      "metadata": {
        "id": "u0zhLtQqMPem"
      },
      "source": [
        "## Split the Dataframe Into Train, Validation, and Test Sets\n",
        "\n",
        "The dataset we downloaded was a single CSV file. We will split this into train, validation, and test sets."
      ]
    },
    {
      "cell_type": "code",
      "execution_count": null,
      "metadata": {
        "id": "YEOpw7LhMYsI",
        "outputId": "3675da06-5d10-46ee-9a06-1daaa5fb785e"
      },
      "outputs": [
        {
          "name": "stdout",
          "output_type": "stream",
          "text": [
            "193 train examples\n",
            "49 validation examples\n",
            "61 test examples\n"
          ]
        }
      ],
      "source": [
        "train, test = train_test_split(dataframe, test_size=0.2)\n",
        "train, val = train_test_split(train, test_size=0.2)\n",
        "print(len(train), 'train examples')\n",
        "print(len(val), 'validation examples')\n",
        "print(len(test), 'test examples')"
      ]
    },
    {
      "cell_type": "markdown",
      "metadata": {
        "id": "84ef46LXMfvu"
      },
      "source": [
        "## Create an Input Pipeline Using `tf.data`\n",
        "\n",
        "Next, we will wrap the dataframes with [tf.data](https://www.tensorflow.org/guide/datasets). This will enable us  to use feature columns as a bridge to map from the columns in the Pandas dataframe to features used to train the model. If we were working with a very large CSV file (so large that it does not fit into memory), we would use tf.data to read it from disk directly."
      ]
    },
    {
      "cell_type": "code",
      "execution_count": null,
      "metadata": {
        "id": "dIYFR0u9BoOS"
      },
      "outputs": [],
      "source": [
        "# EXERCISE: A utility method to create a tf.data dataset from a Pandas Dataframe.\n",
        "\n",
        "def df_to_dataset(dataframe, shuffle=True, batch_size=32):\n",
        "    dataframe = dataframe.copy()\n",
        "\n",
        "    # Use Pandas dataframe's pop method to get the list of targets.\n",
        "    labels = dataframe.pop('target')\n",
        "    features = (dict(dataframe), labels)\n",
        "\n",
        "    # Create a tf.data.Dataset from the dataframe and labels.\n",
        "    ds = tf.data.Dataset.from_tensor_slices(features)\n",
        "\n",
        "    if shuffle:\n",
        "        # Shuffle dataset.\n",
        "        ds = ds.shuffle(len(labels))\n",
        "\n",
        "    # Batch dataset with specified batch_size parameter.\n",
        "    ds = ds.batch(batch_size)\n",
        "\n",
        "    return ds"
      ]
    },
    {
      "cell_type": "code",
      "execution_count": null,
      "metadata": {
        "id": "CXbbXkJvMy34"
      },
      "outputs": [],
      "source": [
        "batch_size = 5 # A small batch sized is used for demonstration purposes\n",
        "train_ds = df_to_dataset(train, batch_size=batch_size)\n",
        "val_ds = df_to_dataset(val, shuffle=False, batch_size=batch_size)\n",
        "test_ds = df_to_dataset(test, shuffle=False, batch_size=batch_size)"
      ]
    },
    {
      "cell_type": "markdown",
      "metadata": {
        "id": "qRLGSMDzM-dl"
      },
      "source": [
        "## Understand the Input Pipeline\n",
        "\n",
        "Now that we have created the input pipeline, let's call it to see the format of the data it returns. We have used a small batch size to keep the output readable."
      ]
    },
    {
      "cell_type": "code",
      "execution_count": null,
      "metadata": {
        "id": "CSBo3dUVNFc9",
        "outputId": "b5a97745-7bf0-4fbc-f19f-5603fdf7e5cf"
      },
      "outputs": [
        {
          "name": "stdout",
          "output_type": "stream",
          "text": [
            "Every feature: ['age', 'sex', 'cp', 'trestbps', 'chol', 'fbs', 'restecg', 'thalach', 'exang', 'oldpeak', 'slope', 'ca', 'thal']\n",
            "A batch of ages: tf.Tensor([51 44 67 54 63], shape=(5,), dtype=int64)\n",
            "A batch of targets: tf.Tensor([0 1 1 0 1], shape=(5,), dtype=int64)\n"
          ]
        }
      ],
      "source": [
        "for feature_batch, label_batch in train_ds.take(1):\n",
        "    print('Every feature:', list(feature_batch.keys()))\n",
        "    print('A batch of ages:', feature_batch['age'])\n",
        "    print('A batch of targets:', label_batch )"
      ]
    },
    {
      "cell_type": "markdown",
      "metadata": {
        "id": "OT5N6Se-NQsC"
      },
      "source": [
        "We can see that the dataset returns a dictionary of column names (from the dataframe) that map to column values from rows in the dataframe."
      ]
    },
    {
      "cell_type": "markdown",
      "metadata": {
        "id": "ttIvgLRaNoOQ"
      },
      "source": [
        "## Create Several Types of Feature Columns\n",
        "\n",
        "TensorFlow provides many types of feature columns. In this section, we will create several types of feature columns, and demonstrate how they transform a column from the dataframe."
      ]
    },
    {
      "cell_type": "code",
      "execution_count": null,
      "metadata": {
        "id": "mxwiHFHuNhmf"
      },
      "outputs": [],
      "source": [
        "# Try to demonstrate several types of feature columns by getting an example.\n",
        "example_batch = next(iter(train_ds))[0]"
      ]
    },
    {
      "cell_type": "code",
      "execution_count": null,
      "metadata": {
        "id": "0wfLB8Q3N3UH"
      },
      "outputs": [],
      "source": [
        "# A utility method to create a feature column and to transform a batch of data.\n",
        "def demo(feature_column):\n",
        "    feature_layer = layers.DenseFeatures(feature_column, dtype='float64')\n",
        "    print(feature_layer(example_batch).numpy())"
      ]
    },
    {
      "cell_type": "markdown",
      "metadata": {
        "id": "Q7OEKe82N-Qb"
      },
      "source": [
        "### Numeric Columns\n",
        "\n",
        "The output of a feature column becomes the input to the model (using the demo function defined above, we will be able to see exactly how each column from the dataframe is transformed). A [numeric column](https://www.tensorflow.org/api_docs/python/tf/feature_column/numeric_column) is the simplest type of column. It is used to represent real valued features."
      ]
    },
    {
      "cell_type": "code",
      "execution_count": null,
      "metadata": {
        "id": "QZTZ0HnHOCxC",
        "outputId": "9bbb66b4-684a-4871-a238-1b5dd51565dc"
      },
      "outputs": [
        {
          "name": "stdout",
          "output_type": "stream",
          "text": [
            "[[39.]\n",
            " [51.]\n",
            " [44.]\n",
            " [44.]\n",
            " [70.]]\n"
          ]
        }
      ],
      "source": [
        "# EXERCISE: Create a numeric feature column out of 'age' and demo it.\n",
        "age = feature_column.numeric_column('age')\n",
        "\n",
        "demo(age)"
      ]
    },
    {
      "cell_type": "markdown",
      "metadata": {
        "id": "7a6ddSyzOKpq"
      },
      "source": [
        "In the heart disease dataset, most columns from the dataframe are numeric."
      ]
    },
    {
      "cell_type": "markdown",
      "metadata": {
        "id": "IcSxUoYgOlA1"
      },
      "source": [
        "### Bucketized Columns\n",
        "\n",
        "Often, you don't want to feed a number directly into the model, but instead split its value into different categories based on numerical ranges. Consider raw data that represents a person's age. Instead of representing age as a numeric column, we could split the age into several buckets using a [bucketized column](https://www.tensorflow.org/api_docs/python/tf/feature_column/bucketized_column)."
      ]
    },
    {
      "cell_type": "code",
      "execution_count": null,
      "metadata": {
        "id": "wJ4Wt3SAOpTQ",
        "outputId": "2be5d9d6-cfed-4b82-b6f8-85f0550e0d38"
      },
      "outputs": [
        {
          "name": "stdout",
          "output_type": "stream",
          "text": [
            "[[0. 0. 0. 0. 1. 0. 0. 0. 0. 0. 0.]\n",
            " [0. 0. 0. 0. 0. 0. 0. 1. 0. 0. 0.]\n",
            " [0. 0. 0. 0. 0. 1. 0. 0. 0. 0. 0.]\n",
            " [0. 0. 0. 0. 0. 1. 0. 0. 0. 0. 0.]\n",
            " [0. 0. 0. 0. 0. 0. 0. 0. 0. 0. 1.]]\n"
          ]
        }
      ],
      "source": [
        "# EXERCISE: Create a bucketized feature column out of 'age' with\n",
        "# the following boundaries and demo it.\n",
        "boundaries = [18, 25, 30, 35, 40, 45, 50, 55, 60, 65]\n",
        "\n",
        "age_buckets = feature_column.bucketized_column(age, boundaries)\n",
        "\n",
        "demo(age_buckets)"
      ]
    },
    {
      "cell_type": "markdown",
      "metadata": {
        "id": "-me1NKJ4BIEB"
      },
      "source": [
        "Notice the one-hot values above describe which age range each row matches."
      ]
    },
    {
      "cell_type": "markdown",
      "metadata": {
        "id": "r1tArzewPb-b"
      },
      "source": [
        "### Categorical Columns\n",
        "\n",
        "In this dataset, thal is represented as a string (e.g. 'fixed', 'normal', or 'reversible'). We cannot feed strings directly to a model. Instead, we must first map them to numeric values. The categorical vocabulary columns provide a way to represent strings as a one-hot vector (much like you have seen above with age buckets).\n",
        "\n",
        "**Note**: You will probably see some warning messages when running some of the code cell below. These warnings have to do with software updates and should not cause any errors or prevent your code from running."
      ]
    },
    {
      "cell_type": "code",
      "execution_count": null,
      "metadata": {
        "id": "DJ6QnSHkPtOC",
        "outputId": "893a8097-82a9-4c82-df49-c3ad951cdfdd"
      },
      "outputs": [
        {
          "name": "stdout",
          "output_type": "stream",
          "text": [
            "[[0. 1. 0.]\n",
            " [0. 1. 0.]\n",
            " [0. 1. 0.]\n",
            " [1. 0. 0.]\n",
            " [0. 1. 0.]]\n"
          ]
        }
      ],
      "source": [
        "# EXERCISE: Create a categorical vocabulary column out of the\n",
        "# above mentioned categories with the key specified as 'thal'.\n",
        "thal = feature_column.categorical_column_with_vocabulary_list('thal', ['fixed', 'normal', 'reversible'])\n",
        "\n",
        "# EXERCISE: Create an indicator column out of the created categorical column.\n",
        "thal_one_hot = feature_column.indicator_column(thal)\n",
        "\n",
        "demo(thal_one_hot)"
      ]
    },
    {
      "cell_type": "markdown",
      "metadata": {
        "id": "zQT4zecNBtji"
      },
      "source": [
        "The vocabulary can be passed as a list using [categorical_column_with_vocabulary_list](https://www.tensorflow.org/api_docs/python/tf/feature_column/categorical_column_with_vocabulary_list), or loaded from a file using [categorical_column_with_vocabulary_file](https://www.tensorflow.org/api_docs/python/tf/feature_column/categorical_column_with_vocabulary_file)."
      ]
    },
    {
      "cell_type": "markdown",
      "metadata": {
        "id": "LEFPjUr6QmwS"
      },
      "source": [
        "### Embedding Columns\n",
        "\n",
        "Suppose instead of having just a few possible strings, we have thousands (or more) values per category. For a number of reasons, as the number of categories grow large, it becomes infeasible to train a neural network using one-hot encodings. We can use an embedding column to overcome this limitation. Instead of representing the data as a one-hot vector of many dimensions, an [embedding column](https://www.tensorflow.org/api_docs/python/tf/feature_column/embedding_column) represents that data as a lower-dimensional, dense vector in which each cell can contain any number, not just 0 or 1. You can tune the size of the embedding with the `dimension` parameter."
      ]
    },
    {
      "cell_type": "code",
      "execution_count": null,
      "metadata": {
        "id": "hSlohmr2Q_UU",
        "outputId": "d5777bee-1dfd-4886-b9c5-df6336fa0570"
      },
      "outputs": [
        {
          "name": "stdout",
          "output_type": "stream",
          "text": [
            "[[-0.33140022  0.13386028 -0.27425098  0.11377659  0.09100869 -0.25210735\n",
            "  -0.00807649  0.02014503]\n",
            " [-0.33140022  0.13386028 -0.27425098  0.11377659  0.09100869 -0.25210735\n",
            "  -0.00807649  0.02014503]\n",
            " [-0.33140022  0.13386028 -0.27425098  0.11377659  0.09100869 -0.25210735\n",
            "  -0.00807649  0.02014503]\n",
            " [-0.10818467 -0.3653649   0.349958    0.52539855 -0.2294546   0.10957839\n",
            "  -0.48551467  0.00379803]\n",
            " [-0.33140022  0.13386028 -0.27425098  0.11377659  0.09100869 -0.25210735\n",
            "  -0.00807649  0.02014503]]\n"
          ]
        }
      ],
      "source": [
        "# EXERCISE: Create an embedding column out of the categorical\n",
        "# vocabulary you just created (thal). Set the size of the\n",
        "# embedding to 8, by using the dimension parameter.\n",
        "\n",
        "thal_embedding = feature_column.embedding_column(thal, dimension=8)\n",
        "\n",
        "\n",
        "demo(thal_embedding)"
      ]
    },
    {
      "cell_type": "markdown",
      "metadata": {
        "id": "urFCAvTVRMpB"
      },
      "source": [
        "### Hashed Feature Columns\n",
        "\n",
        "Another way to represent a categorical column with a large number of values is to use a [categorical_column_with_hash_bucket](https://www.tensorflow.org/api_docs/python/tf/feature_column/categorical_column_with_hash_bucket). This feature column calculates a hash value of the input, then selects one of the `hash_bucket_size` buckets to encode a string. When using this column, you do not need to provide the vocabulary, and you can choose to make the number of hash buckets significantly smaller than the number of actual categories to save space."
      ]
    },
    {
      "cell_type": "code",
      "execution_count": null,
      "metadata": {
        "id": "YHU_Aj2nRRDC",
        "outputId": "813b1a60-5f9a-4fad-97b1-c07b6815f160"
      },
      "outputs": [
        {
          "name": "stdout",
          "output_type": "stream",
          "text": [
            "[[0. 0. 0. 1. 0. 0. 0. 0. 0. 0.]\n",
            " [0. 0. 0. 1. 0. 0. 0. 0. 0. 0.]\n",
            " [0. 0. 0. 1. 0. 0. 0. 0. 0. 0.]\n",
            " [1. 0. 0. 0. 0. 0. 0. 0. 0. 0.]\n",
            " [0. 0. 0. 1. 0. 0. 0. 0. 0. 0.]]\n"
          ]
        }
      ],
      "source": [
        "# EXERCISE: Create a hashed feature column with 'thal' as the key and\n",
        "# 1000 hash buckets.\n",
        "thal_hashed = feature_column.categorical_column_with_hash_bucket('thal', hash_bucket_size=10)\n",
        "\n",
        "demo(feature_column.indicator_column(thal_hashed))"
      ]
    },
    {
      "cell_type": "markdown",
      "metadata": {
        "id": "fB94M27DRXtZ"
      },
      "source": [
        "### Crossed Feature Columns\n",
        "Combining features into a single feature, better known as [feature crosses](https://developers.google.com/machine-learning/glossary/#feature_cross), enables a model to learn separate weights for each combination of features. Here, we will create a new feature that is the cross of age and thal. Note that `crossed_column` does not build the full table of all possible combinations (which could be very large). Instead, it is backed by a `hashed_column`, so you can choose how large the table is."
      ]
    },
    {
      "cell_type": "code",
      "execution_count": null,
      "metadata": {
        "id": "oaPVERd9Rep6",
        "outputId": "14719cd7-10df-4a53-87ac-32be0bfb2a4a"
      },
      "outputs": [
        {
          "name": "stdout",
          "output_type": "stream",
          "text": [
            "[[0. 0. 0. 0. 1. 0. 0. 0. 0. 0.]\n",
            " [0. 0. 0. 0. 0. 1. 0. 0. 0. 0.]\n",
            " [0. 0. 0. 0. 0. 1. 0. 0. 0. 0.]\n",
            " [0. 0. 0. 0. 1. 0. 0. 0. 0. 0.]\n",
            " [0. 0. 1. 0. 0. 0. 0. 0. 0. 0.]]\n"
          ]
        }
      ],
      "source": [
        "# EXERCISE: Create a crossed column using the bucketized column (age_buckets),\n",
        "# the categorical vocabulary column (thal) previously created, and 1000 hash buckets.\n",
        "crossed_feature = feature_column.crossed_column([age_buckets, thal], hash_bucket_size=10)\n",
        "\n",
        "demo(feature_column.indicator_column(crossed_feature))"
      ]
    },
    {
      "cell_type": "markdown",
      "metadata": {
        "id": "ypkI9zx6Rj1q"
      },
      "source": [
        "## Choose Which Columns to Use\n",
        "\n",
        "We have seen how to use several types of feature columns. Now we will use them to train a model. The goal of this exercise is to show you the complete code needed to work with feature columns. We have selected a few columns to train our model below arbitrarily.\n",
        "\n",
        "If your aim is to build an accurate model, try a larger dataset of your own, and think carefully about which features are the most meaningful to include, and how they should be represented."
      ]
    },
    {
      "cell_type": "code",
      "execution_count": null,
      "metadata": {
        "id": "Eu8bJWmCScfC",
        "outputId": "ac59fce4-6fb8-42a7-845c-75e9b4da6890"
      },
      "outputs": [
        {
          "data": {
            "text/plain": [
              "age           int64\n",
              "sex           int64\n",
              "cp            int64\n",
              "trestbps      int64\n",
              "chol          int64\n",
              "fbs           int64\n",
              "restecg       int64\n",
              "thalach       int64\n",
              "exang         int64\n",
              "oldpeak     float64\n",
              "slope         int64\n",
              "ca            int64\n",
              "thal         object\n",
              "target        int64\n",
              "dtype: object"
            ]
          },
          "execution_count": 40,
          "metadata": {},
          "output_type": "execute_result"
        }
      ],
      "source": [
        "dataframe.dtypes"
      ]
    },
    {
      "cell_type": "markdown",
      "metadata": {
        "id": "2pV4tSI3SkuX"
      },
      "source": [
        "You can use the above list of column datatypes to map the appropriate feature column to every column in the dataframe."
      ]
    },
    {
      "cell_type": "code",
      "execution_count": null,
      "metadata": {
        "id": "4PlLY7fORuzA"
      },
      "outputs": [],
      "source": [
        "# EXERCISE: Fill in the missing code below\n",
        "feature_columns = []\n",
        "\n",
        "# Numeric Cols.\n",
        "# Create a list of numeric columns. Use the following list of columns\n",
        "# that have a numeric datatype: ['age', 'trestbps', 'chol', 'thalach', 'oldpeak', 'slope', 'ca'].\n",
        "numeric_columns = ['age', 'trestbps', 'chol', 'thalach', 'oldpeak', 'slope', 'ca']\n",
        "\n",
        "for header in numeric_columns:\n",
        "    # Create a numeric feature column  out of the header.\n",
        "    numeric_feature_column = feature_column.numeric_column(header)\n",
        "\n",
        "    feature_columns.append(numeric_feature_column)\n",
        "\n",
        "# Bucketized Cols.\n",
        "# Create a bucketized feature column out of the age column (numeric column)\n",
        "# that you've already created. Use the following boundaries:\n",
        "# [18, 25, 30, 35, 40, 45, 50, 55, 60, 65]\n",
        "age_buckets = feature_column.bucketized_column(age, boundaries=[18, 25, 30, 35, 40, 45, 50, 55, 60, 65])\n",
        "\n",
        "feature_columns.append(age_buckets)\n",
        "\n",
        "# Indicator Cols.\n",
        "# Create a categorical vocabulary column out of the categories\n",
        "# ['fixed', 'normal', 'reversible'] with the key specified as 'thal'.\n",
        "# thal = ['fixed', 'normal', 'reversible']\n",
        "\n",
        "thal_column  = feature_column.categorical_column_with_vocabulary_list(\n",
        "      'thal', ['fixed', 'normal', 'reversible'])\n",
        "# Create an indicator column out of the created thal categorical column\n",
        "thal_one_hot = feature_column.indicator_column(thal_column )\n",
        "\n",
        "feature_columns.append(thal_one_hot)\n",
        "\n",
        "# Embedding Cols.\n",
        "# Create an embedding column out of the categorical vocabulary you\n",
        "# just created (thal). Set the size of the embedding to 8, by using\n",
        "# the dimension parameter.\n",
        "thal_embedding = feature_column.embedding_column(thal_column, dimension=8)\n",
        "\n",
        "feature_columns.append(thal_embedding)\n",
        "\n",
        "# Crossed Cols.\n",
        "# Create a crossed column using the bucketized column (age_buckets),\n",
        "# the categorical vocabulary column (thal) previously created, and 1000 hash buckets.\n",
        "crossed_feature = feature_column.crossed_column([age_buckets, thal_column], hash_bucket_size=1000)\n",
        "\n",
        "# Create an indicator column out of the crossed column created above to one-hot encode it.\n",
        "crossed_feature = feature_column.indicator_column(crossed_feature)\n",
        "\n",
        "feature_columns.append(crossed_feature)"
      ]
    },
    {
      "cell_type": "markdown",
      "metadata": {
        "id": "M-nDp8krS_ts"
      },
      "source": [
        "### Create a Feature Layer\n",
        "\n",
        "Now that we have defined our feature columns, we will use a [DenseFeatures](https://www.tensorflow.org/versions/r2.0/api_docs/python/tf/keras/layers/DenseFeatures) layer to input them to our Keras model."
      ]
    },
    {
      "cell_type": "code",
      "execution_count": null,
      "metadata": {
        "id": "6o-El1R2TGQP"
      },
      "outputs": [],
      "source": [
        "# EXERCISE: Create a Keras DenseFeatures layer and pass the feature_columns you just created.\n",
        "feature_layer = tf.keras.layers.DenseFeatures(feature_columns)"
      ]
    },
    {
      "cell_type": "markdown",
      "metadata": {
        "id": "8cf6vKfgTH0U"
      },
      "source": [
        "Earlier, we used a small batch size to demonstrate how feature columns worked. We create a new input pipeline with a larger batch size."
      ]
    },
    {
      "cell_type": "code",
      "execution_count": null,
      "metadata": {
        "id": "gcemszoGSse_"
      },
      "outputs": [],
      "source": [
        "batch_size = 32\n",
        "train_ds = df_to_dataset(train, batch_size=batch_size)\n",
        "val_ds = df_to_dataset(val, shuffle=False, batch_size=batch_size)\n",
        "test_ds = df_to_dataset(test, shuffle=False, batch_size=batch_size)"
      ]
    },
    {
      "cell_type": "markdown",
      "metadata": {
        "id": "bBx4Xu0eTXWq"
      },
      "source": [
        "## Create, Compile, and Train the Model"
      ]
    },
    {
      "cell_type": "code",
      "execution_count": null,
      "metadata": {
        "id": "_YJPPb3xTPeZ",
        "outputId": "9ef76c52-683f-4a67-cf24-f1059a7cdd11"
      },
      "outputs": [
        {
          "name": "stdout",
          "output_type": "stream",
          "text": [
            "Epoch 1/100\n",
            "WARNING:tensorflow:Layers in a Sequential model should only have a single input tensor. Received: inputs={'age': <tf.Tensor 'IteratorGetNext:0' shape=(None,) dtype=int64>, 'sex': <tf.Tensor 'IteratorGetNext:8' shape=(None,) dtype=int64>, 'cp': <tf.Tensor 'IteratorGetNext:3' shape=(None,) dtype=int64>, 'trestbps': <tf.Tensor 'IteratorGetNext:12' shape=(None,) dtype=int64>, 'chol': <tf.Tensor 'IteratorGetNext:2' shape=(None,) dtype=int64>, 'fbs': <tf.Tensor 'IteratorGetNext:5' shape=(None,) dtype=int64>, 'restecg': <tf.Tensor 'IteratorGetNext:7' shape=(None,) dtype=int64>, 'thalach': <tf.Tensor 'IteratorGetNext:11' shape=(None,) dtype=int64>, 'exang': <tf.Tensor 'IteratorGetNext:4' shape=(None,) dtype=int64>, 'oldpeak': <tf.Tensor 'IteratorGetNext:6' shape=(None,) dtype=float64>, 'slope': <tf.Tensor 'IteratorGetNext:9' shape=(None,) dtype=int64>, 'ca': <tf.Tensor 'IteratorGetNext:1' shape=(None,) dtype=int64>, 'thal': <tf.Tensor 'IteratorGetNext:10' shape=(None,) dtype=string>}. Consider rewriting this model with the Functional API.\n",
            "WARNING:tensorflow:Layers in a Sequential model should only have a single input tensor. Received: inputs={'age': <tf.Tensor 'IteratorGetNext:0' shape=(None,) dtype=int64>, 'sex': <tf.Tensor 'IteratorGetNext:8' shape=(None,) dtype=int64>, 'cp': <tf.Tensor 'IteratorGetNext:3' shape=(None,) dtype=int64>, 'trestbps': <tf.Tensor 'IteratorGetNext:12' shape=(None,) dtype=int64>, 'chol': <tf.Tensor 'IteratorGetNext:2' shape=(None,) dtype=int64>, 'fbs': <tf.Tensor 'IteratorGetNext:5' shape=(None,) dtype=int64>, 'restecg': <tf.Tensor 'IteratorGetNext:7' shape=(None,) dtype=int64>, 'thalach': <tf.Tensor 'IteratorGetNext:11' shape=(None,) dtype=int64>, 'exang': <tf.Tensor 'IteratorGetNext:4' shape=(None,) dtype=int64>, 'oldpeak': <tf.Tensor 'IteratorGetNext:6' shape=(None,) dtype=float64>, 'slope': <tf.Tensor 'IteratorGetNext:9' shape=(None,) dtype=int64>, 'ca': <tf.Tensor 'IteratorGetNext:1' shape=(None,) dtype=int64>, 'thal': <tf.Tensor 'IteratorGetNext:10' shape=(None,) dtype=string>}. Consider rewriting this model with the Functional API.\n",
            "1/7 [===>..........................] - ETA: 4s - loss: 4.3949 - accuracy: 0.6562WARNING:tensorflow:Layers in a Sequential model should only have a single input tensor. Received: inputs={'age': <tf.Tensor 'IteratorGetNext:0' shape=(None,) dtype=int64>, 'sex': <tf.Tensor 'IteratorGetNext:8' shape=(None,) dtype=int64>, 'cp': <tf.Tensor 'IteratorGetNext:3' shape=(None,) dtype=int64>, 'trestbps': <tf.Tensor 'IteratorGetNext:12' shape=(None,) dtype=int64>, 'chol': <tf.Tensor 'IteratorGetNext:2' shape=(None,) dtype=int64>, 'fbs': <tf.Tensor 'IteratorGetNext:5' shape=(None,) dtype=int64>, 'restecg': <tf.Tensor 'IteratorGetNext:7' shape=(None,) dtype=int64>, 'thalach': <tf.Tensor 'IteratorGetNext:11' shape=(None,) dtype=int64>, 'exang': <tf.Tensor 'IteratorGetNext:4' shape=(None,) dtype=int64>, 'oldpeak': <tf.Tensor 'IteratorGetNext:6' shape=(None,) dtype=float64>, 'slope': <tf.Tensor 'IteratorGetNext:9' shape=(None,) dtype=int64>, 'ca': <tf.Tensor 'IteratorGetNext:1' shape=(None,) dtype=int64>, 'thal': <tf.Tensor 'IteratorGetNext:10' shape=(None,) dtype=string>}. Consider rewriting this model with the Functional API.\n",
            "7/7 [==============================] - 1s 47ms/step - loss: 2.2509 - accuracy: 0.4974 - val_loss: 0.9312 - val_accuracy: 0.8367\n",
            "Epoch 2/100\n",
            "7/7 [==============================] - 0s 8ms/step - loss: 1.4801 - accuracy: 0.6736 - val_loss: 1.0118 - val_accuracy: 0.2653\n",
            "Epoch 3/100\n",
            "7/7 [==============================] - 0s 7ms/step - loss: 0.8317 - accuracy: 0.6218 - val_loss: 0.3841 - val_accuracy: 0.8367\n",
            "Epoch 4/100\n",
            "7/7 [==============================] - 0s 10ms/step - loss: 0.5415 - accuracy: 0.7306 - val_loss: 0.4038 - val_accuracy: 0.7755\n",
            "Epoch 5/100\n",
            "7/7 [==============================] - 0s 7ms/step - loss: 0.5451 - accuracy: 0.7409 - val_loss: 1.3746 - val_accuracy: 0.3265\n",
            "Epoch 6/100\n",
            "7/7 [==============================] - 0s 7ms/step - loss: 0.9485 - accuracy: 0.5803 - val_loss: 0.5854 - val_accuracy: 0.8367\n",
            "Epoch 7/100\n",
            "7/7 [==============================] - 0s 11ms/step - loss: 1.2277 - accuracy: 0.6839 - val_loss: 0.6270 - val_accuracy: 0.7143\n",
            "Epoch 8/100\n",
            "7/7 [==============================] - 0s 10ms/step - loss: 0.6007 - accuracy: 0.6943 - val_loss: 0.4898 - val_accuracy: 0.7143\n",
            "Epoch 9/100\n",
            "7/7 [==============================] - 0s 7ms/step - loss: 0.5024 - accuracy: 0.7565 - val_loss: 0.4291 - val_accuracy: 0.7551\n",
            "Epoch 10/100\n",
            "7/7 [==============================] - 0s 11ms/step - loss: 0.4646 - accuracy: 0.7979 - val_loss: 0.4936 - val_accuracy: 0.7143\n",
            "Epoch 11/100\n",
            "7/7 [==============================] - 0s 11ms/step - loss: 0.4379 - accuracy: 0.7979 - val_loss: 0.4012 - val_accuracy: 0.7959\n",
            "Epoch 12/100\n",
            "7/7 [==============================] - 0s 7ms/step - loss: 0.5123 - accuracy: 0.7461 - val_loss: 0.7627 - val_accuracy: 0.5918\n",
            "Epoch 13/100\n",
            "7/7 [==============================] - 0s 10ms/step - loss: 0.4497 - accuracy: 0.7876 - val_loss: 0.4082 - val_accuracy: 0.8163\n",
            "Epoch 14/100\n",
            "7/7 [==============================] - 0s 10ms/step - loss: 0.4974 - accuracy: 0.7513 - val_loss: 0.5699 - val_accuracy: 0.7347\n",
            "Epoch 15/100\n",
            "7/7 [==============================] - 0s 7ms/step - loss: 0.4368 - accuracy: 0.8083 - val_loss: 0.3631 - val_accuracy: 0.7959\n",
            "Epoch 16/100\n",
            "7/7 [==============================] - 0s 10ms/step - loss: 0.4536 - accuracy: 0.7824 - val_loss: 0.9972 - val_accuracy: 0.5306\n",
            "Epoch 17/100\n",
            "7/7 [==============================] - 0s 10ms/step - loss: 0.4873 - accuracy: 0.7927 - val_loss: 0.4642 - val_accuracy: 0.8367\n",
            "Epoch 18/100\n",
            "7/7 [==============================] - 0s 7ms/step - loss: 0.7147 - accuracy: 0.7047 - val_loss: 0.6642 - val_accuracy: 0.6531\n",
            "Epoch 19/100\n",
            "7/7 [==============================] - 0s 11ms/step - loss: 0.4378 - accuracy: 0.7876 - val_loss: 0.3585 - val_accuracy: 0.7959\n",
            "Epoch 20/100\n",
            "7/7 [==============================] - 0s 10ms/step - loss: 0.4016 - accuracy: 0.8187 - val_loss: 0.6502 - val_accuracy: 0.6531\n",
            "Epoch 21/100\n",
            "7/7 [==============================] - 0s 7ms/step - loss: 0.4389 - accuracy: 0.7720 - val_loss: 0.3498 - val_accuracy: 0.8367\n",
            "Epoch 22/100\n",
            "7/7 [==============================] - 0s 10ms/step - loss: 0.4244 - accuracy: 0.7979 - val_loss: 0.6109 - val_accuracy: 0.6939\n",
            "Epoch 23/100\n",
            "7/7 [==============================] - 0s 10ms/step - loss: 0.3909 - accuracy: 0.8031 - val_loss: 0.3575 - val_accuracy: 0.7551\n",
            "Epoch 24/100\n",
            "7/7 [==============================] - 0s 7ms/step - loss: 0.3710 - accuracy: 0.8238 - val_loss: 0.5152 - val_accuracy: 0.7551\n",
            "Epoch 25/100\n",
            "7/7 [==============================] - 0s 10ms/step - loss: 0.3835 - accuracy: 0.8290 - val_loss: 0.4524 - val_accuracy: 0.7755\n",
            "Epoch 26/100\n",
            "7/7 [==============================] - 0s 10ms/step - loss: 0.3535 - accuracy: 0.8446 - val_loss: 0.4020 - val_accuracy: 0.7755\n",
            "Epoch 27/100\n",
            "7/7 [==============================] - 0s 7ms/step - loss: 0.3566 - accuracy: 0.8342 - val_loss: 0.6001 - val_accuracy: 0.7143\n",
            "Epoch 28/100\n",
            "7/7 [==============================] - 0s 7ms/step - loss: 0.3573 - accuracy: 0.8135 - val_loss: 0.4159 - val_accuracy: 0.8367\n",
            "Epoch 29/100\n",
            "7/7 [==============================] - 0s 10ms/step - loss: 0.6737 - accuracy: 0.7150 - val_loss: 0.6103 - val_accuracy: 0.6531\n",
            "Epoch 30/100\n",
            "7/7 [==============================] - 0s 7ms/step - loss: 0.4341 - accuracy: 0.7876 - val_loss: 1.0316 - val_accuracy: 0.5306\n",
            "Epoch 31/100\n",
            "7/7 [==============================] - 0s 7ms/step - loss: 0.7495 - accuracy: 0.6684 - val_loss: 0.3504 - val_accuracy: 0.7959\n",
            "Epoch 32/100\n",
            "7/7 [==============================] - 0s 10ms/step - loss: 0.4538 - accuracy: 0.7824 - val_loss: 0.5128 - val_accuracy: 0.7755\n",
            "Epoch 33/100\n",
            "7/7 [==============================] - 0s 11ms/step - loss: 0.3783 - accuracy: 0.8290 - val_loss: 0.4625 - val_accuracy: 0.7959\n",
            "Epoch 34/100\n",
            "7/7 [==============================] - 0s 7ms/step - loss: 0.3608 - accuracy: 0.8342 - val_loss: 0.3881 - val_accuracy: 0.7755\n",
            "Epoch 35/100\n",
            "7/7 [==============================] - 0s 11ms/step - loss: 0.3607 - accuracy: 0.8290 - val_loss: 0.3842 - val_accuracy: 0.7959\n",
            "Epoch 36/100\n"
          ]
        },
        {
          "name": "stdout",
          "output_type": "stream",
          "text": [
            "7/7 [==============================] - 0s 10ms/step - loss: 0.3730 - accuracy: 0.8342 - val_loss: 1.0840 - val_accuracy: 0.5306\n",
            "Epoch 37/100\n",
            "7/7 [==============================] - 0s 7ms/step - loss: 0.8458 - accuracy: 0.6321 - val_loss: 0.5062 - val_accuracy: 0.8367\n",
            "Epoch 38/100\n",
            "7/7 [==============================] - 0s 11ms/step - loss: 0.8723 - accuracy: 0.7202 - val_loss: 0.6911 - val_accuracy: 0.6939\n",
            "Epoch 39/100\n",
            "7/7 [==============================] - 0s 10ms/step - loss: 0.4955 - accuracy: 0.7979 - val_loss: 0.3645 - val_accuracy: 0.7755\n",
            "Epoch 40/100\n",
            "7/7 [==============================] - 0s 7ms/step - loss: 0.4920 - accuracy: 0.7772 - val_loss: 0.6495 - val_accuracy: 0.7143\n",
            "Epoch 41/100\n",
            "7/7 [==============================] - 0s 7ms/step - loss: 0.4141 - accuracy: 0.7979 - val_loss: 0.3659 - val_accuracy: 0.7959\n",
            "Epoch 42/100\n",
            "7/7 [==============================] - 0s 10ms/step - loss: 0.4400 - accuracy: 0.8031 - val_loss: 0.6601 - val_accuracy: 0.6939\n",
            "Epoch 43/100\n",
            "7/7 [==============================] - 0s 7ms/step - loss: 0.3861 - accuracy: 0.8238 - val_loss: 0.3835 - val_accuracy: 0.7959\n",
            "Epoch 44/100\n",
            "7/7 [==============================] - 0s 8ms/step - loss: 0.3941 - accuracy: 0.8446 - val_loss: 0.5331 - val_accuracy: 0.7347\n",
            "Epoch 45/100\n",
            "7/7 [==============================] - 0s 10ms/step - loss: 0.3343 - accuracy: 0.8394 - val_loss: 0.3900 - val_accuracy: 0.7959\n",
            "Epoch 46/100\n",
            "7/7 [==============================] - 0s 7ms/step - loss: 0.3385 - accuracy: 0.8290 - val_loss: 0.5339 - val_accuracy: 0.7143\n",
            "Epoch 47/100\n",
            "7/7 [==============================] - 0s 7ms/step - loss: 0.3293 - accuracy: 0.8342 - val_loss: 0.4220 - val_accuracy: 0.7959\n",
            "Epoch 48/100\n",
            "7/7 [==============================] - 0s 11ms/step - loss: 0.3261 - accuracy: 0.8446 - val_loss: 0.4570 - val_accuracy: 0.7551\n",
            "Epoch 49/100\n",
            "7/7 [==============================] - 0s 11ms/step - loss: 0.3142 - accuracy: 0.8497 - val_loss: 0.4828 - val_accuracy: 0.7347\n",
            "Epoch 50/100\n",
            "7/7 [==============================] - 0s 7ms/step - loss: 0.3241 - accuracy: 0.8497 - val_loss: 0.4315 - val_accuracy: 0.7959\n",
            "Epoch 51/100\n",
            "7/7 [==============================] - 0s 10ms/step - loss: 0.3118 - accuracy: 0.8497 - val_loss: 0.4724 - val_accuracy: 0.7347\n",
            "Epoch 52/100\n",
            "7/7 [==============================] - 0s 10ms/step - loss: 0.3084 - accuracy: 0.8497 - val_loss: 0.4177 - val_accuracy: 0.7959\n",
            "Epoch 53/100\n",
            "7/7 [==============================] - 0s 7ms/step - loss: 0.3098 - accuracy: 0.8653 - val_loss: 0.5076 - val_accuracy: 0.7347\n",
            "Epoch 54/100\n",
            "7/7 [==============================] - 0s 10ms/step - loss: 0.3195 - accuracy: 0.8342 - val_loss: 0.4416 - val_accuracy: 0.7959\n",
            "Epoch 55/100\n",
            "7/7 [==============================] - 0s 11ms/step - loss: 0.3127 - accuracy: 0.8497 - val_loss: 0.4643 - val_accuracy: 0.7551\n",
            "Epoch 56/100\n",
            "7/7 [==============================] - 0s 7ms/step - loss: 0.2997 - accuracy: 0.8446 - val_loss: 0.4698 - val_accuracy: 0.7347\n",
            "Epoch 57/100\n",
            "7/7 [==============================] - 0s 7ms/step - loss: 0.3057 - accuracy: 0.8549 - val_loss: 0.5453 - val_accuracy: 0.7143\n",
            "Epoch 58/100\n",
            "7/7 [==============================] - 0s 10ms/step - loss: 0.3240 - accuracy: 0.8394 - val_loss: 0.3681 - val_accuracy: 0.7959\n",
            "Epoch 59/100\n",
            "7/7 [==============================] - 0s 7ms/step - loss: 0.3321 - accuracy: 0.8394 - val_loss: 0.8268 - val_accuracy: 0.6531\n",
            "Epoch 60/100\n",
            "7/7 [==============================] - 0s 7ms/step - loss: 0.4582 - accuracy: 0.7876 - val_loss: 0.4453 - val_accuracy: 0.8163\n",
            "Epoch 61/100\n",
            "7/7 [==============================] - 0s 10ms/step - loss: 0.5162 - accuracy: 0.7927 - val_loss: 0.4285 - val_accuracy: 0.7551\n",
            "Epoch 62/100\n",
            "7/7 [==============================] - 0s 11ms/step - loss: 0.4087 - accuracy: 0.7979 - val_loss: 0.4808 - val_accuracy: 0.7755\n",
            "Epoch 63/100\n",
            "7/7 [==============================] - 0s 8ms/step - loss: 0.3567 - accuracy: 0.8342 - val_loss: 0.4515 - val_accuracy: 0.8163\n",
            "Epoch 64/100\n",
            "7/7 [==============================] - 0s 12ms/step - loss: 0.3267 - accuracy: 0.8290 - val_loss: 0.3533 - val_accuracy: 0.7755\n",
            "Epoch 65/100\n",
            "7/7 [==============================] - 0s 11ms/step - loss: 0.4777 - accuracy: 0.7772 - val_loss: 0.6187 - val_accuracy: 0.7143\n",
            "Epoch 66/100\n",
            "7/7 [==============================] - 0s 7ms/step - loss: 0.4033 - accuracy: 0.8083 - val_loss: 0.3568 - val_accuracy: 0.7755\n",
            "Epoch 67/100\n",
            "7/7 [==============================] - 0s 7ms/step - loss: 0.3413 - accuracy: 0.8549 - val_loss: 0.7782 - val_accuracy: 0.6531\n",
            "Epoch 68/100\n",
            "7/7 [==============================] - 0s 11ms/step - loss: 0.3933 - accuracy: 0.8031 - val_loss: 0.3628 - val_accuracy: 0.7755\n",
            "Epoch 69/100\n",
            "7/7 [==============================] - 0s 10ms/step - loss: 0.3249 - accuracy: 0.8394 - val_loss: 0.4415 - val_accuracy: 0.7959\n",
            "Epoch 70/100\n",
            "7/7 [==============================] - 0s 7ms/step - loss: 0.3125 - accuracy: 0.8497 - val_loss: 0.4718 - val_accuracy: 0.7755\n",
            "Epoch 71/100\n",
            "7/7 [==============================] - 0s 11ms/step - loss: 0.2951 - accuracy: 0.8601 - val_loss: 0.4478 - val_accuracy: 0.7755\n",
            "Epoch 72/100\n",
            "7/7 [==============================] - 0s 10ms/step - loss: 0.2949 - accuracy: 0.8497 - val_loss: 0.3859 - val_accuracy: 0.8163\n",
            "Epoch 73/100\n",
            "7/7 [==============================] - 0s 7ms/step - loss: 0.3366 - accuracy: 0.8446 - val_loss: 0.4194 - val_accuracy: 0.7959\n",
            "Epoch 74/100\n",
            "7/7 [==============================] - 0s 11ms/step - loss: 0.2906 - accuracy: 0.8653 - val_loss: 0.4420 - val_accuracy: 0.7959\n",
            "Epoch 75/100\n",
            "7/7 [==============================] - 0s 11ms/step - loss: 0.3012 - accuracy: 0.8497 - val_loss: 0.3883 - val_accuracy: 0.8163\n",
            "Epoch 76/100\n",
            "7/7 [==============================] - 0s 7ms/step - loss: 0.2933 - accuracy: 0.8653 - val_loss: 0.5768 - val_accuracy: 0.7143\n",
            "Epoch 77/100\n",
            "7/7 [==============================] - 0s 10ms/step - loss: 0.2992 - accuracy: 0.8497 - val_loss: 0.3790 - val_accuracy: 0.8367\n",
            "Epoch 78/100\n",
            "7/7 [==============================] - 0s 10ms/step - loss: 0.3139 - accuracy: 0.8394 - val_loss: 0.5207 - val_accuracy: 0.7143\n",
            "Epoch 79/100\n",
            "7/7 [==============================] - 0s 7ms/step - loss: 0.2907 - accuracy: 0.8808 - val_loss: 0.4151 - val_accuracy: 0.7959\n",
            "Epoch 80/100\n",
            "7/7 [==============================] - 0s 7ms/step - loss: 0.2775 - accuracy: 0.8860 - val_loss: 0.4720 - val_accuracy: 0.7959\n",
            "Epoch 81/100\n",
            "7/7 [==============================] - 0s 9ms/step - loss: 0.2767 - accuracy: 0.8808 - val_loss: 0.5566 - val_accuracy: 0.7143\n",
            "Epoch 82/100\n",
            "7/7 [==============================] - 0s 7ms/step - loss: 0.3166 - accuracy: 0.8705 - val_loss: 0.3765 - val_accuracy: 0.7959\n",
            "Epoch 83/100\n",
            "7/7 [==============================] - 0s 7ms/step - loss: 0.2996 - accuracy: 0.8497 - val_loss: 0.6874 - val_accuracy: 0.7143\n",
            "Epoch 84/100\n",
            "7/7 [==============================] - 0s 10ms/step - loss: 0.3250 - accuracy: 0.8446 - val_loss: 0.3729 - val_accuracy: 0.7959\n",
            "Epoch 85/100\n",
            "7/7 [==============================] - 0s 7ms/step - loss: 0.3280 - accuracy: 0.8808 - val_loss: 0.4657 - val_accuracy: 0.7755\n",
            "Epoch 86/100\n",
            "7/7 [==============================] - 0s 8ms/step - loss: 0.2884 - accuracy: 0.8549 - val_loss: 0.4773 - val_accuracy: 0.7755\n",
            "Epoch 87/100\n",
            "7/7 [==============================] - 0s 10ms/step - loss: 0.2803 - accuracy: 0.8808 - val_loss: 0.4106 - val_accuracy: 0.7959\n",
            "Epoch 88/100\n",
            "7/7 [==============================] - 0s 11ms/step - loss: 0.2802 - accuracy: 0.8756 - val_loss: 0.4762 - val_accuracy: 0.7755\n",
            "Epoch 89/100\n",
            "7/7 [==============================] - 0s 7ms/step - loss: 0.2640 - accuracy: 0.8756 - val_loss: 0.5940 - val_accuracy: 0.7143\n",
            "Epoch 90/100\n",
            "7/7 [==============================] - 0s 11ms/step - loss: 0.3167 - accuracy: 0.8653 - val_loss: 0.5268 - val_accuracy: 0.7755\n",
            "Epoch 91/100\n",
            "7/7 [==============================] - 0s 10ms/step - loss: 0.3786 - accuracy: 0.8083 - val_loss: 0.4535 - val_accuracy: 0.7755\n",
            "Epoch 92/100\n",
            "7/7 [==============================] - 0s 7ms/step - loss: 0.4061 - accuracy: 0.8342 - val_loss: 0.6970 - val_accuracy: 0.6939\n",
            "Epoch 93/100\n",
            "7/7 [==============================] - 0s 11ms/step - loss: 0.3576 - accuracy: 0.8446 - val_loss: 0.4035 - val_accuracy: 0.7755\n",
            "Epoch 94/100\n"
          ]
        },
        {
          "name": "stdout",
          "output_type": "stream",
          "text": [
            "7/7 [==============================] - 0s 10ms/step - loss: 0.3604 - accuracy: 0.8497 - val_loss: 0.8417 - val_accuracy: 0.6939\n",
            "Epoch 95/100\n",
            "7/7 [==============================] - 0s 8ms/step - loss: 0.4125 - accuracy: 0.8187 - val_loss: 0.3999 - val_accuracy: 0.7959\n",
            "Epoch 96/100\n",
            "7/7 [==============================] - 0s 7ms/step - loss: 0.3315 - accuracy: 0.8497 - val_loss: 0.4714 - val_accuracy: 0.7755\n",
            "Epoch 97/100\n",
            "7/7 [==============================] - 0s 9ms/step - loss: 0.2891 - accuracy: 0.8653 - val_loss: 0.4775 - val_accuracy: 0.7755\n",
            "Epoch 98/100\n",
            "7/7 [==============================] - 0s 11ms/step - loss: 0.2724 - accuracy: 0.8705 - val_loss: 0.4026 - val_accuracy: 0.8571\n",
            "Epoch 99/100\n",
            "7/7 [==============================] - 0s 7ms/step - loss: 0.2826 - accuracy: 0.8756 - val_loss: 0.4854 - val_accuracy: 0.7959\n",
            "Epoch 100/100\n",
            "7/7 [==============================] - 0s 10ms/step - loss: 0.2706 - accuracy: 0.8601 - val_loss: 0.4338 - val_accuracy: 0.7755\n"
          ]
        },
        {
          "data": {
            "text/plain": [
              "<keras.callbacks.History at 0x7f56dc5a3a30>"
            ]
          },
          "execution_count": 44,
          "metadata": {},
          "output_type": "execute_result"
        }
      ],
      "source": [
        "model = tf.keras.Sequential([\n",
        "        feature_layer,\n",
        "        layers.Dense(128, activation='relu'),\n",
        "        layers.Dense(128, activation='relu'),\n",
        "        layers.Dense(1, activation='sigmoid')\n",
        "])\n",
        "\n",
        "model.compile(optimizer='adam',\n",
        "              loss='binary_crossentropy',\n",
        "              metrics=['accuracy'])\n",
        "\n",
        "model.fit(train_ds,\n",
        "          validation_data=val_ds,\n",
        "          epochs=100)"
      ]
    },
    {
      "cell_type": "code",
      "execution_count": null,
      "metadata": {
        "id": "GnFmMOW0Tcaa",
        "outputId": "a2529479-4979-41af-f3f5-00299ee8f1af"
      },
      "outputs": [
        {
          "name": "stdout",
          "output_type": "stream",
          "text": [
            "2/2 [==============================] - 0s 5ms/step - loss: 0.4714 - accuracy: 0.8525\n",
            "Accuracy 0.8524590134620667\n"
          ]
        }
      ],
      "source": [
        "loss, accuracy = model.evaluate(test_ds)\n",
        "print(\"Accuracy\", accuracy)"
      ]
    },
    {
      "cell_type": "markdown",
      "metadata": {
        "id": "Ew1311WVBoO4"
      },
      "source": [
        "# Submission Instructions"
      ]
    },
    {
      "cell_type": "code",
      "execution_count": null,
      "metadata": {
        "id": "ErDkxcEXBoO4"
      },
      "outputs": [],
      "source": [
        "# Now click the 'Submit Assignment' button above."
      ]
    },
    {
      "cell_type": "markdown",
      "metadata": {
        "id": "zUnfPeWRBoO5"
      },
      "source": [
        "# When you're done or would like to take a break, please run the two cells below to save your work and close the Notebook. This frees up resources for your fellow learners."
      ]
    },
    {
      "cell_type": "code",
      "execution_count": null,
      "metadata": {
        "id": "e0Oct9plBoO5"
      },
      "outputs": [],
      "source": [
        "%%javascript\n",
        "<!-- Save the notebook -->\n",
        "IPython.notebook.save_checkpoint();"
      ]
    },
    {
      "cell_type": "code",
      "execution_count": null,
      "metadata": {
        "id": "N093U4QqBoO6"
      },
      "outputs": [],
      "source": [
        "%%javascript\n",
        "<!-- Shutdown and close the notebook -->\n",
        "window.onbeforeunload = null\n",
        "window.close();\n",
        "IPython.notebook.session.delete();"
      ]
    }
  ],
  "metadata": {
    "accelerator": "GPU",
    "colab": {
      "provenance": [],
      "include_colab_link": true
    },
    "coursera": {
      "schema_names": [
        "tensorflow-datasets-w3"
      ]
    },
    "kernelspec": {
      "display_name": "Python 3",
      "language": "python",
      "name": "python3"
    },
    "language_info": {
      "codemirror_mode": {
        "name": "ipython",
        "version": 3
      },
      "file_extension": ".py",
      "mimetype": "text/x-python",
      "name": "python",
      "nbconvert_exporter": "python",
      "pygments_lexer": "ipython3",
      "version": "3.8.10"
    }
  },
  "nbformat": 4,
  "nbformat_minor": 0
}