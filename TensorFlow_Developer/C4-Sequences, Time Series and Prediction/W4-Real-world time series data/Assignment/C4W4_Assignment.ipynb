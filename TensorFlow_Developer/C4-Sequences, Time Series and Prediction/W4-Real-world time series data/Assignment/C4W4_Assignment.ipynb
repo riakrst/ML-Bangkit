{
  "cells": [
    {
      "cell_type": "markdown",
      "metadata": {
        "id": "view-in-github",
        "colab_type": "text"
      },
      "source": [
        "<a href=\"https://colab.research.google.com/github/riakrst/ML-Bangkit/blob/main/DeepLearning.AI%20TensorFlow%20Developer/C4-Sequences%2C%20Time%20Series%20and%20Prediction/W4-Real-world%20time%20series%20data/Assignment/C4W4_Assignment.ipynb\" target=\"_parent\"><img src=\"https://colab.research.google.com/assets/colab-badge.svg\" alt=\"Open In Colab\"/></a>"
      ]
    },
    {
      "cell_type": "markdown",
      "metadata": {
        "id": "KdKA30K9GV28"
      },
      "source": [
        "# Week 4: Using real world data\n",
        "\n",
        "Welcome! So far you have worked exclusively with generated data. This time you will be using the [Daily Minimum Temperatures in Melbourne](https://github.com/jbrownlee/Datasets/blob/master/daily-min-temperatures.csv) dataset which contains data of the daily minimum temperatures recorded in Melbourne from 1981 to 1990. In addition to be using Tensorflow's layers for processing sequence data such as Recurrent layers or LSTMs you will also use Convolutional layers to improve the model's performance.\n",
        "\n",
        "Let's get started!"
      ]
    },
    {
      "cell_type": "markdown",
      "metadata": {
        "id": "7fBLYtOEGV3B"
      },
      "source": [
        "_**NOTE:** To prevent errors from the autograder, you are not allowed to edit or delete some of the cells in this notebook . Please only put your solutions in between the `### START CODE HERE` and `### END CODE HERE` code comments, and also refrain from adding any new cells. **Once you have passed this assignment** and want to experiment with any of the locked cells, you may follow the instructions at the bottom of this notebook._"
      ]
    },
    {
      "cell_type": "code",
      "execution_count": null,
      "metadata": {
        "deletable": false,
        "editable": false,
        "id": "56XEQOGknrAk"
      },
      "outputs": [],
      "source": [
        "import csv\n",
        "import pickle\n",
        "import numpy as np\n",
        "import tensorflow as tf\n",
        "import matplotlib.pyplot as plt\n",
        "from dataclasses import dataclass\n",
        "from absl import logging\n",
        "logging.set_verbosity(logging.ERROR)"
      ]
    },
    {
      "cell_type": "markdown",
      "metadata": {
        "id": "RmX3mQkwGV3G"
      },
      "source": [
        "Begin by looking at the structure of the csv that contains the data:"
      ]
    },
    {
      "cell_type": "code",
      "execution_count": null,
      "metadata": {
        "deletable": false,
        "editable": false,
        "id": "h_GWn7pIGV3I",
        "outputId": "0fa55824-a4a2-4ed4-d3d8-2951118c78c0"
      },
      "outputs": [
        {
          "name": "stdout",
          "output_type": "stream",
          "text": [
            "Header looks like this:\n",
            "\n",
            "\"Date\",\"Temp\"\n",
            "\n",
            "First data point looks like this:\n",
            "\n",
            "\"1981-01-01\",20.7\n",
            "\n",
            "Second data point looks like this:\n",
            "\n",
            "\"1981-01-02\",17.9\n",
            "\n"
          ]
        }
      ],
      "source": [
        "TEMPERATURES_CSV = './data/daily-min-temperatures.csv'\n",
        "\n",
        "with open(TEMPERATURES_CSV, 'r') as csvfile:\n",
        "    print(f\"Header looks like this:\\n\\n{csvfile.readline()}\")\n",
        "    print(f\"First data point looks like this:\\n\\n{csvfile.readline()}\")\n",
        "    print(f\"Second data point looks like this:\\n\\n{csvfile.readline()}\")"
      ]
    },
    {
      "cell_type": "markdown",
      "metadata": {
        "id": "m1EIrdAXGV3K"
      },
      "source": [
        "As you can see, each data point is composed of the date and the recorded minimum temperature for that date.\n",
        "\n",
        "\n",
        "In the first exercise you will code a function to read the data from the csv but for now run the next cell to load a helper function to plot the time series."
      ]
    },
    {
      "cell_type": "code",
      "execution_count": null,
      "metadata": {
        "deletable": false,
        "editable": false,
        "id": "sLl52leVp5wU"
      },
      "outputs": [],
      "source": [
        "def plot_series(time, series, format=\"-\", start=0, end=None):\n",
        "    plt.plot(time[start:end], series[start:end], format)\n",
        "    plt.xlabel(\"Time\")\n",
        "    plt.ylabel(\"Value\")\n",
        "    plt.grid(True)"
      ]
    },
    {
      "cell_type": "markdown",
      "metadata": {
        "id": "banHp5NSGV3M"
      },
      "source": [
        "## Parsing the raw data\n",
        "Now you need to read the data from the csv file. To do so, complete the `parse_data_from_file` function.\n",
        "\n",
        "A couple of things to note:\n",
        "\n",
        "- You should omit the first line as the file contains headers.\n",
        "- There is no need to save the data points as numpy arrays, regular lists is fine.\n",
        "- To read from csv files use `csv.reader` by passing the appropriate arguments.\n",
        "- `csv.reader` returns an iterable that returns each row in every iteration. So the temperature can be accessed via row[1] and the date can be discarded.\n",
        "- The `times` list should contain every timestep (starting at zero), which is just a sequence of ordered numbers with the same length as the `temperatures` list.\n",
        "- The values of the `temperatures` should be of `float` type. You can use Python's built-in `float` function to ensure this."
      ]
    },
    {
      "cell_type": "code",
      "execution_count": null,
      "metadata": {
        "deletable": false,
        "id": "NcG9r1eClbTh"
      },
      "outputs": [],
      "source": [
        "def parse_data_from_file(filename):\n",
        "\n",
        "    times = []\n",
        "    temperatures = []\n",
        "\n",
        "    with open(filename) as csvfile:\n",
        "\n",
        "        ### START CODE HERE\n",
        "\n",
        "        reader = csv.reader(csvfile, delimiter=',')\n",
        "        next(reader)\n",
        "        step=0\n",
        "        for row in reader:\n",
        "            temperatures.append(float(row[1]))\n",
        "            times.append(step)\n",
        "            step = step + 1\n",
        "        ### END CODE HERE\n",
        "\n",
        "    return times, temperatures"
      ]
    },
    {
      "cell_type": "markdown",
      "metadata": {
        "id": "y385HBCpGV3P"
      },
      "source": [
        "The next cell will use your function to compute the `times` and `temperatures` and will save these as numpy arrays within the `G` dataclass. This cell will also plot the time series:"
      ]
    },
    {
      "cell_type": "code",
      "execution_count": null,
      "metadata": {
        "deletable": false,
        "editable": false,
        "id": "f9RKa6_1GV3Q",
        "outputId": "a807f3f1-3744-48f3-e4e9-76cf1c3841bd"
      },
      "outputs": [
        {
          "data": {
            "image/png": "[encoded data removed]",
            "text/plain": [
              "<Figure size 720x432 with 1 Axes>"
            ]
          },
          "metadata": {
            "needs_background": "light"
          },
          "output_type": "display_data"
        }
      ],
      "source": [
        "# Test your function and save all \"global\" variables within the G class (G stands for global)\n",
        "@dataclass\n",
        "class G:\n",
        "    TEMPERATURES_CSV = './data/daily-min-temperatures.csv'\n",
        "    times, temperatures = parse_data_from_file(TEMPERATURES_CSV)\n",
        "    TIME = np.array(times)\n",
        "    SERIES = np.array(temperatures)\n",
        "    SPLIT_TIME = 2500\n",
        "    WINDOW_SIZE = 64\n",
        "    BATCH_SIZE = 32\n",
        "    SHUFFLE_BUFFER_SIZE = 1000\n",
        "\n",
        "\n",
        "plt.figure(figsize=(10, 6))\n",
        "plot_series(G.TIME, G.SERIES)\n",
        "plt.show()"
      ]
    },
    {
      "cell_type": "markdown",
      "metadata": {
        "id": "7EJnTovJGV3R"
      },
      "source": [
        "**Expected Output:**\n",
        "<div>\n",
        "<img src=\"images/temp-series.png\" width=\"500\"/>\n",
        "</div>"
      ]
    },
    {
      "cell_type": "markdown",
      "metadata": {
        "id": "Bm1FNXbrGV3S"
      },
      "source": [
        "## Processing the data\n",
        "\n",
        "Since you already coded the `train_val_split` and `windowed_dataset` functions during past week's assignments, this time they are provided for you:"
      ]
    },
    {
      "cell_type": "code",
      "execution_count": null,
      "metadata": {
        "deletable": false,
        "editable": false,
        "id": "opP7LSZLGV3T"
      },
      "outputs": [],
      "source": [
        "def train_val_split(time, series, time_step=G.SPLIT_TIME):\n",
        "\n",
        "    time_train = time[:time_step]\n",
        "    series_train = series[:time_step]\n",
        "    time_valid = time[time_step:]\n",
        "    series_valid = series[time_step:]\n",
        "\n",
        "    return time_train, series_train, time_valid, series_valid\n",
        "\n",
        "\n",
        "# Split the dataset\n",
        "time_train, series_train, time_valid, series_valid = train_val_split(G.TIME, G.SERIES)"
      ]
    },
    {
      "cell_type": "code",
      "execution_count": null,
      "metadata": {
        "deletable": false,
        "editable": false,
        "id": "lJwUUZscnG38"
      },
      "outputs": [],
      "source": [
        "def windowed_dataset(series, window_size=G.WINDOW_SIZE, batch_size=G.BATCH_SIZE, shuffle_buffer=G.SHUFFLE_BUFFER_SIZE):\n",
        "    ds = tf.data.Dataset.from_tensor_slices(series)\n",
        "    ds = ds.window(window_size + 1, shift=1, drop_remainder=True)\n",
        "    ds = ds.flat_map(lambda w: w.batch(window_size + 1))\n",
        "    ds = ds.shuffle(shuffle_buffer)\n",
        "    ds = ds.map(lambda w: (w[:-1], w[-1]))\n",
        "    ds = ds.batch(batch_size).prefetch(1)\n",
        "    return ds\n",
        "\n",
        "\n",
        "# Apply the transformation to the training set\n",
        "train_set = windowed_dataset(series_train, window_size=G.WINDOW_SIZE, batch_size=G.BATCH_SIZE, shuffle_buffer=G.SHUFFLE_BUFFER_SIZE)"
      ]
    },
    {
      "cell_type": "markdown",
      "metadata": {
        "id": "wcNFK_3uGV3Y"
      },
      "source": [
        "## Defining the model architecture\n",
        "\n",
        "Now that you have a function that will process the data before it is fed into your neural network for training, it is time to define your layer architecture. Just as in last week's assignment you will do the layer definition and compilation in two separate steps. Begin by completing the `create_uncompiled_model` function below.\n",
        "\n",
        "This is done so you can reuse your model's layers for the learning rate adjusting and the actual training.\n",
        "\n",
        "Hint:\n",
        "\n",
        "- `Lambda` layers are not required.\n",
        "- Use a combination of `Conv1D` and `LSTM` layers followed by `Dense` layers"
      ]
    },
    {
      "cell_type": "code",
      "execution_count": null,
      "metadata": {
        "deletable": false,
        "id": "3HCdjW__GV3Z"
      },
      "outputs": [],
      "source": [
        "def create_uncompiled_model():\n",
        "\n",
        "    ### START CODE HERE\n",
        "\n",
        "    model = tf.keras.models.Sequential([\n",
        "        tf.keras.layers.Conv1D(filters=60, kernel_size=5,\n",
        "                      strides=1, padding=\"causal\",\n",
        "                      activation=\"relu\",\n",
        "                      input_shape=[None, 1]),\n",
        "        tf.keras.layers.LSTM(60, return_sequences=True),\n",
        "        tf.keras.layers.LSTM(60),\n",
        "        tf.keras.layers.Dense(30, activation=\"relu\"),\n",
        "        tf.keras.layers.Dense(10, activation=\"relu\"),\n",
        "        tf.keras.layers.Dense(1),\n",
        "        tf.keras.layers.Lambda(lambda x: x * 400)\n",
        "])\n",
        "    ### END CODE HERE\n",
        "\n",
        "    return model"
      ]
    },
    {
      "cell_type": "markdown",
      "metadata": {
        "id": "f_OZw6FeGV3a"
      },
      "source": [
        "You can test your model with the code below. If you get an error, it's likely that your model is returning a sequence. You can indeed use an LSTM with `return_sequences=True` but you have to feed it into another layer that generates a single prediction. You can review the lectures or the previous ungraded labs to see how that is done."
      ]
    },
    {
      "cell_type": "code",
      "execution_count": null,
      "metadata": {
        "deletable": false,
        "editable": false,
        "id": "3H-dCTJYGV3b",
        "outputId": "2fd2305e-5d8d-4770-e50d-fe57eaa3d7d5"
      },
      "outputs": [
        {
          "name": "stdout",
          "output_type": "stream",
          "text": [
            "Testing model prediction with input of shape (32, 64)...\n",
            "Your current architecture is compatible with the windowed dataset! :)\n"
          ]
        }
      ],
      "source": [
        "# Test your uncompiled model\n",
        "\n",
        "# Create an instance of the model\n",
        "uncompiled_model = create_uncompiled_model()\n",
        "\n",
        "# Get one batch of the training set(X = input, y = label)\n",
        "for X, y in train_set.take(1):\n",
        "\n",
        "    # Generate a prediction\n",
        "    print(f'Testing model prediction with input of shape {X.shape}...')\n",
        "    y_pred = uncompiled_model.predict(X)\n",
        "\n",
        "# Compare the shape of the prediction and the label y (remove dimensions of size 1)\n",
        "y_pred_shape = y_pred.squeeze().shape\n",
        "\n",
        "assert y_pred_shape == y.shape, (f'Squeezed predicted y shape = {y_pred_shape} '\n",
        "                                           f'whereas actual y shape = {y.shape}.')\n",
        "\n",
        "print(\"Your current architecture is compatible with the windowed dataset! :)\")"
      ]
    },
    {
      "cell_type": "markdown",
      "metadata": {
        "id": "CQdyrqZ9GV3c"
      },
      "source": [
        "## Adjusting the learning rate - (Optional Exercise)\n",
        "\n",
        "As you saw in the lectures, you can leverage Tensorflow's callbacks to dynamically vary the learning rate before doing the actual training. This can be helpful in finding what value works best with your model. Note that this is only one way of finding the best learning rate. There are other techniques for hyperparameter optimization but it is outside the scope of this course.\n",
        "\n",
        "For the optimizers you can try out:\n",
        "\n",
        "- tf.keras.optimizers.Adam\n",
        "- tf.keras.optimizers.SGD with a momentum of 0.9"
      ]
    },
    {
      "cell_type": "code",
      "execution_count": null,
      "metadata": {
        "deletable": false,
        "id": "uPfLr3LRGV3d"
      },
      "outputs": [],
      "source": [
        "def adjust_learning_rate(dataset):\n",
        "\n",
        "    model = create_uncompiled_model()\n",
        "\n",
        "    lr_schedule = tf.keras.callbacks.LearningRateScheduler(lambda epoch: 1e-8 * 10**(epoch / 20))\n",
        "\n",
        "    ### START CODE HERE\n",
        "\n",
        "    # Select your optimizer\n",
        "    optimizer = tf.keras.optimizers.SGD(lr=1e-8, momentum=0.9)\n",
        "\n",
        "    # Compile the model passing in the appropriate loss\n",
        "    model.compile(loss=tf.keras.losses.Huber(),\n",
        "                  optimizer=optimizer,\n",
        "                  metrics=[\"mae\"])\n",
        "\n",
        "    ### END CODE HERE\n",
        "\n",
        "    history = model.fit(dataset, epochs=100, callbacks=[lr_schedule])\n",
        "\n",
        "    return history"
      ]
    },
    {
      "cell_type": "code",
      "execution_count": null,
      "metadata": {
        "deletable": false,
        "editable": false,
        "id": "7jULISYTGV3d",
        "outputId": "13623388-28dc-4524-9f8b-f970af4d92c6"
      },
      "outputs": [
        {
          "name": "stdout",
          "output_type": "stream",
          "text": [
            "Epoch 1/100\n",
            "77/77 [==============================] - 14s 129ms/step - loss: 6.7896 - mae: 7.2733 - lr: 1.0000e-08\n",
            "Epoch 2/100\n",
            "77/77 [==============================] - 10s 127ms/step - loss: 3.5074 - mae: 3.9786 - lr: 1.1220e-08\n",
            "Epoch 3/100\n",
            "77/77 [==============================] - 10s 129ms/step - loss: 3.4603 - mae: 3.9299 - lr: 1.2589e-08\n",
            "Epoch 4/100\n",
            "77/77 [==============================] - 10s 130ms/step - loss: 3.4164 - mae: 3.8867 - lr: 1.4125e-08\n",
            "Epoch 5/100\n",
            "77/77 [==============================] - 10s 130ms/step - loss: 3.3686 - mae: 3.8386 - lr: 1.5849e-08\n",
            "Epoch 6/100\n",
            "77/77 [==============================] - 10s 129ms/step - loss: 3.3266 - mae: 3.7977 - lr: 1.7783e-08\n",
            "Epoch 7/100\n",
            "77/77 [==============================] - 10s 131ms/step - loss: 3.2688 - mae: 3.7384 - lr: 1.9953e-08\n",
            "Epoch 8/100\n",
            "77/77 [==============================] - 10s 129ms/step - loss: 3.2162 - mae: 3.6870 - lr: 2.2387e-08\n",
            "Epoch 9/100\n",
            "77/77 [==============================] - 10s 129ms/step - loss: 3.1671 - mae: 3.6382 - lr: 2.5119e-08\n",
            "Epoch 10/100\n",
            "77/77 [==============================] - 10s 128ms/step - loss: 3.1025 - mae: 3.5722 - lr: 2.8184e-08\n",
            "Epoch 11/100\n",
            "77/77 [==============================] - 10s 129ms/step - loss: 3.0436 - mae: 3.5144 - lr: 3.1623e-08\n",
            "Epoch 12/100\n",
            "77/77 [==============================] - 10s 128ms/step - loss: 2.9693 - mae: 3.4374 - lr: 3.5481e-08\n",
            "Epoch 13/100\n",
            "77/77 [==============================] - 10s 128ms/step - loss: 2.8775 - mae: 3.3452 - lr: 3.9811e-08\n",
            "Epoch 14/100\n",
            "77/77 [==============================] - 10s 131ms/step - loss: 2.7607 - mae: 3.2264 - lr: 4.4668e-08\n",
            "Epoch 15/100\n",
            "77/77 [==============================] - 10s 129ms/step - loss: 2.6540 - mae: 3.1178 - lr: 5.0119e-08\n",
            "Epoch 16/100\n",
            "77/77 [==============================] - 10s 128ms/step - loss: 2.5712 - mae: 3.0310 - lr: 5.6234e-08\n",
            "Epoch 17/100\n",
            "77/77 [==============================] - 10s 129ms/step - loss: 2.4784 - mae: 2.9371 - lr: 6.3096e-08\n",
            "Epoch 18/100\n",
            "77/77 [==============================] - 10s 127ms/step - loss: 2.4158 - mae: 2.8744 - lr: 7.0795e-08\n",
            "Epoch 19/100\n",
            "77/77 [==============================] - 10s 131ms/step - loss: 2.3670 - mae: 2.8284 - lr: 7.9433e-08\n",
            "Epoch 20/100\n",
            "77/77 [==============================] - 10s 129ms/step - loss: 2.3379 - mae: 2.7971 - lr: 8.9125e-08\n",
            "Epoch 21/100\n",
            "77/77 [==============================] - 10s 130ms/step - loss: 2.2904 - mae: 2.7487 - lr: 1.0000e-07\n",
            "Epoch 22/100\n",
            "77/77 [==============================] - 10s 127ms/step - loss: 2.2512 - mae: 2.7100 - lr: 1.1220e-07\n",
            "Epoch 23/100\n",
            "77/77 [==============================] - 10s 124ms/step - loss: 2.2248 - mae: 2.6820 - lr: 1.2589e-07\n",
            "Epoch 24/100\n",
            "77/77 [==============================] - 10s 124ms/step - loss: 2.1921 - mae: 2.6503 - lr: 1.4125e-07\n",
            "Epoch 25/100\n",
            "77/77 [==============================] - 10s 124ms/step - loss: 2.1759 - mae: 2.6326 - lr: 1.5849e-07\n",
            "Epoch 26/100\n",
            "77/77 [==============================] - 10s 126ms/step - loss: 2.1497 - mae: 2.6073 - lr: 1.7783e-07\n",
            "Epoch 27/100\n",
            "77/77 [==============================] - 10s 126ms/step - loss: 2.1286 - mae: 2.5879 - lr: 1.9953e-07\n",
            "Epoch 28/100\n",
            "77/77 [==============================] - 10s 124ms/step - loss: 2.1000 - mae: 2.5529 - lr: 2.2387e-07\n",
            "Epoch 29/100\n",
            "77/77 [==============================] - 10s 126ms/step - loss: 2.1265 - mae: 2.5835 - lr: 2.5119e-07\n",
            "Epoch 30/100\n",
            "77/77 [==============================] - 10s 127ms/step - loss: 2.0567 - mae: 2.5073 - lr: 2.8184e-07\n",
            "Epoch 31/100\n",
            "77/77 [==============================] - 10s 128ms/step - loss: 2.0238 - mae: 2.4782 - lr: 3.1623e-07\n",
            "Epoch 32/100\n",
            "77/77 [==============================] - 10s 126ms/step - loss: 2.0068 - mae: 2.4589 - lr: 3.5481e-07\n",
            "Epoch 33/100\n",
            "77/77 [==============================] - 10s 124ms/step - loss: 1.9691 - mae: 2.4208 - lr: 3.9811e-07\n",
            "Epoch 34/100\n",
            "77/77 [==============================] - 10s 125ms/step - loss: 1.9443 - mae: 2.3951 - lr: 4.4668e-07\n",
            "Epoch 35/100\n",
            "77/77 [==============================] - 10s 126ms/step - loss: 1.9775 - mae: 2.4319 - lr: 5.0119e-07\n",
            "Epoch 36/100\n",
            "77/77 [==============================] - 10s 125ms/step - loss: 1.9976 - mae: 2.4523 - lr: 5.6234e-07\n",
            "Epoch 37/100\n",
            "77/77 [==============================] - 10s 123ms/step - loss: 1.9332 - mae: 2.3816 - lr: 6.3096e-07\n",
            "Epoch 38/100\n",
            "77/77 [==============================] - 10s 126ms/step - loss: 1.9016 - mae: 2.3547 - lr: 7.0795e-07\n",
            "Epoch 39/100\n",
            "77/77 [==============================] - 10s 128ms/step - loss: 2.0540 - mae: 2.5106 - lr: 7.9433e-07\n",
            "Epoch 40/100\n",
            "77/77 [==============================] - 10s 125ms/step - loss: 1.8988 - mae: 2.3528 - lr: 8.9125e-07\n",
            "Epoch 41/100\n",
            "77/77 [==============================] - 10s 125ms/step - loss: 1.8567 - mae: 2.3076 - lr: 1.0000e-06\n",
            "Epoch 42/100\n",
            "77/77 [==============================] - 10s 126ms/step - loss: 1.8656 - mae: 2.3171 - lr: 1.1220e-06\n",
            "Epoch 43/100\n",
            "77/77 [==============================] - 10s 127ms/step - loss: 2.0478 - mae: 2.5042 - lr: 1.2589e-06\n",
            "Epoch 44/100\n",
            "77/77 [==============================] - 10s 127ms/step - loss: 1.9109 - mae: 2.3647 - lr: 1.4125e-06\n",
            "Epoch 45/100\n",
            "77/77 [==============================] - 10s 126ms/step - loss: 1.9877 - mae: 2.4393 - lr: 1.5849e-06\n",
            "Epoch 46/100\n",
            "77/77 [==============================] - 10s 126ms/step - loss: 1.9074 - mae: 2.3600 - lr: 1.7783e-06\n",
            "Epoch 47/100\n",
            "77/77 [==============================] - 10s 127ms/step - loss: 2.2936 - mae: 2.7543 - lr: 1.9953e-06\n",
            "Epoch 48/100\n",
            "77/77 [==============================] - 10s 126ms/step - loss: 1.7993 - mae: 2.2522 - lr: 2.2387e-06\n",
            "Epoch 49/100\n",
            "77/77 [==============================] - 10s 128ms/step - loss: 1.8389 - mae: 2.2940 - lr: 2.5119e-06\n",
            "Epoch 50/100\n",
            "77/77 [==============================] - 10s 130ms/step - loss: 1.8572 - mae: 2.3111 - lr: 2.8184e-06\n",
            "Epoch 51/100\n",
            "77/77 [==============================] - 10s 132ms/step - loss: 2.3371 - mae: 2.7998 - lr: 3.1623e-06\n",
            "Epoch 52/100\n",
            "77/77 [==============================] - 10s 129ms/step - loss: 2.1647 - mae: 2.6249 - lr: 3.5481e-06\n",
            "Epoch 53/100\n",
            "77/77 [==============================] - 10s 129ms/step - loss: 2.2465 - mae: 2.7102 - lr: 3.9811e-06\n",
            "Epoch 54/100\n",
            "77/77 [==============================] - 10s 129ms/step - loss: 2.2338 - mae: 2.6947 - lr: 4.4668e-06\n",
            "Epoch 55/100\n",
            "77/77 [==============================] - 10s 126ms/step - loss: 3.0023 - mae: 3.4715 - lr: 5.0119e-06\n",
            "Epoch 56/100\n",
            "77/77 [==============================] - 10s 128ms/step - loss: 2.2897 - mae: 2.7510 - lr: 5.6234e-06\n",
            "Epoch 57/100\n",
            "77/77 [==============================] - 10s 130ms/step - loss: 2.4181 - mae: 2.8831 - lr: 6.3096e-06\n",
            "Epoch 58/100\n",
            "77/77 [==============================] - 10s 130ms/step - loss: 2.5066 - mae: 2.9722 - lr: 7.0795e-06\n",
            "Epoch 59/100\n",
            "77/77 [==============================] - 10s 129ms/step - loss: 2.7334 - mae: 3.2037 - lr: 7.9433e-06\n",
            "Epoch 60/100\n",
            "77/77 [==============================] - 10s 127ms/step - loss: 2.7814 - mae: 3.2503 - lr: 8.9125e-06\n",
            "Epoch 61/100\n",
            "77/77 [==============================] - 10s 129ms/step - loss: 2.4618 - mae: 2.9241 - lr: 1.0000e-05\n",
            "Epoch 62/100\n",
            "77/77 [==============================] - 10s 131ms/step - loss: 2.8008 - mae: 3.2686 - lr: 1.1220e-05\n",
            "Epoch 63/100\n",
            "77/77 [==============================] - 10s 129ms/step - loss: 2.2444 - mae: 2.7073 - lr: 1.2589e-05\n",
            "Epoch 64/100\n",
            "77/77 [==============================] - 10s 125ms/step - loss: 2.2697 - mae: 2.7300 - lr: 1.4125e-05\n",
            "Epoch 65/100\n",
            "77/77 [==============================] - 10s 128ms/step - loss: 2.7632 - mae: 3.2329 - lr: 1.5849e-05\n",
            "Epoch 66/100\n",
            "77/77 [==============================] - 10s 126ms/step - loss: 2.5251 - mae: 2.9880 - lr: 1.7783e-05\n",
            "Epoch 67/100\n",
            "77/77 [==============================] - 10s 127ms/step - loss: 2.2033 - mae: 2.6609 - lr: 1.9953e-05\n",
            "Epoch 68/100\n",
            "77/77 [==============================] - 10s 127ms/step - loss: 2.1685 - mae: 2.6263 - lr: 2.2387e-05\n",
            "Epoch 69/100\n",
            "77/77 [==============================] - 10s 125ms/step - loss: 3.1720 - mae: 3.6439 - lr: 2.5119e-05\n",
            "Epoch 70/100\n",
            "77/77 [==============================] - 10s 127ms/step - loss: 2.1251 - mae: 2.5861 - lr: 2.8184e-05\n",
            "Epoch 71/100\n",
            "77/77 [==============================] - 10s 128ms/step - loss: 2.5616 - mae: 3.0255 - lr: 3.1623e-05\n",
            "Epoch 72/100\n"
          ]
        },
        {
          "name": "stdout",
          "output_type": "stream",
          "text": [
            "77/77 [==============================] - 10s 126ms/step - loss: 2.3499 - mae: 2.8144 - lr: 3.5481e-05\n",
            "Epoch 73/100\n",
            "77/77 [==============================] - 10s 126ms/step - loss: 2.2392 - mae: 2.6981 - lr: 3.9811e-05\n",
            "Epoch 74/100\n",
            "77/77 [==============================] - 10s 126ms/step - loss: 2.4636 - mae: 2.9308 - lr: 4.4668e-05\n",
            "Epoch 75/100\n",
            "77/77 [==============================] - 10s 127ms/step - loss: 3.5813 - mae: 4.0604 - lr: 5.0119e-05\n",
            "Epoch 76/100\n",
            "77/77 [==============================] - 10s 123ms/step - loss: 2.4048 - mae: 2.8650 - lr: 5.6234e-05\n",
            "Epoch 77/100\n",
            "77/77 [==============================] - 10s 127ms/step - loss: 3.5276 - mae: 4.0013 - lr: 6.3096e-05\n",
            "Epoch 78/100\n",
            "77/77 [==============================] - 10s 127ms/step - loss: 3.9549 - mae: 4.4334 - lr: 7.0795e-05\n",
            "Epoch 79/100\n",
            "77/77 [==============================] - 10s 124ms/step - loss: 4.8592 - mae: 5.3375 - lr: 7.9433e-05\n",
            "Epoch 80/100\n",
            "77/77 [==============================] - 10s 128ms/step - loss: 7.6449 - mae: 8.1301 - lr: 8.9125e-05\n",
            "Epoch 81/100\n",
            "77/77 [==============================] - 10s 129ms/step - loss: 6.7340 - mae: 7.2207 - lr: 1.0000e-04\n",
            "Epoch 82/100\n",
            "77/77 [==============================] - 10s 128ms/step - loss: 9.7558 - mae: 10.2425 - lr: 1.1220e-04\n",
            "Epoch 83/100\n",
            "77/77 [==============================] - 10s 130ms/step - loss: 18.9281 - mae: 19.4279 - lr: 1.2589e-04\n",
            "Epoch 84/100\n",
            "77/77 [==============================] - 10s 130ms/step - loss: 12.1669 - mae: 12.6585 - lr: 1.4125e-04\n",
            "Epoch 85/100\n",
            "77/77 [==============================] - 10s 130ms/step - loss: 16.0424 - mae: 16.5390 - lr: 1.5849e-04\n",
            "Epoch 86/100\n",
            "77/77 [==============================] - 11s 135ms/step - loss: 23.9205 - mae: 24.4187 - lr: 1.7783e-04\n",
            "Epoch 87/100\n",
            "77/77 [==============================] - 11s 135ms/step - loss: 30.2800 - mae: 30.7799 - lr: 1.9953e-04\n",
            "Epoch 88/100\n",
            "77/77 [==============================] - 10s 131ms/step - loss: 33.6766 - mae: 34.1751 - lr: 2.2387e-04\n",
            "Epoch 89/100\n",
            "77/77 [==============================] - 12s 147ms/step - loss: 38.2704 - mae: 38.7704 - lr: 2.5119e-04\n",
            "Epoch 90/100\n",
            "77/77 [==============================] - 10s 129ms/step - loss: 29.6627 - mae: 30.1592 - lr: 2.8184e-04\n",
            "Epoch 91/100\n",
            "77/77 [==============================] - 10s 129ms/step - loss: 26.0170 - mae: 26.5169 - lr: 3.1623e-04\n",
            "Epoch 92/100\n",
            "77/77 [==============================] - 10s 126ms/step - loss: 26.6512 - mae: 27.1493 - lr: 3.5481e-04\n",
            "Epoch 93/100\n",
            "77/77 [==============================] - 10s 129ms/step - loss: 33.0956 - mae: 33.5955 - lr: 3.9811e-04\n",
            "Epoch 94/100\n",
            "77/77 [==============================] - 11s 134ms/step - loss: 37.1345 - mae: 37.6345 - lr: 4.4668e-04\n",
            "Epoch 95/100\n",
            "77/77 [==============================] - 10s 129ms/step - loss: 77.8540 - mae: 78.3536 - lr: 5.0119e-04\n",
            "Epoch 96/100\n",
            "77/77 [==============================] - 10s 127ms/step - loss: 50.7197 - mae: 51.2192 - lr: 5.6234e-04\n",
            "Epoch 97/100\n",
            "77/77 [==============================] - 10s 129ms/step - loss: 52.3981 - mae: 52.8981 - lr: 6.3096e-04\n",
            "Epoch 98/100\n",
            "77/77 [==============================] - 10s 127ms/step - loss: 59.3591 - mae: 59.8590 - lr: 7.0795e-04\n",
            "Epoch 99/100\n",
            "77/77 [==============================] - 10s 130ms/step - loss: 66.1902 - mae: 66.6902 - lr: 7.9433e-04\n",
            "Epoch 100/100\n",
            "77/77 [==============================] - 10s 133ms/step - loss: 130.3818 - mae: 130.8816 - lr: 8.9125e-04\n"
          ]
        }
      ],
      "source": [
        "# Run the training with dynamic LR\n",
        "lr_history = adjust_learning_rate(train_set)"
      ]
    },
    {
      "cell_type": "code",
      "execution_count": null,
      "metadata": {
        "colab": {
          "base_uri": "https://localhost:8080/",
          "height": 290
        },
        "deletable": false,
        "editable": false,
        "id": "vVcKmg7Q_7rD",
        "outputId": "27cf16ae-eb85-47c3-fc86-18e72e528619"
      },
      "outputs": [
        {
          "data": {
            "text/plain": [
              "(0.0001, 10.0, 0.0, 10.0)"
            ]
          },
          "execution_count": 14,
          "metadata": {},
          "output_type": "execute_result"
        },
        {
          "data": {
            "image/png": "[encoded data removed]",
            "text/plain": [
              "<Figure size 432x288 with 1 Axes>"
            ]
          },
          "metadata": {
            "needs_background": "light"
          },
          "output_type": "display_data"
        }
      ],
      "source": [
        "plt.semilogx(lr_history.history[\"lr\"], lr_history.history[\"loss\"])\n",
        "plt.axis([1e-4, 10, 0, 10])"
      ]
    },
    {
      "cell_type": "markdown",
      "metadata": {
        "id": "d5r-ne7JGV3f"
      },
      "source": [
        "## Compiling the model\n",
        "Now that you have trained the model while varying the learning rate, it is time to do the actual training that will be used to forecast the time series. For this complete the `create_model` function below.\n",
        "\n",
        "Notice that you are reusing the architecture you defined in the `create_uncompiled_model` earlier. Now you only need to compile this model using the appropriate loss, optimizer (and learning rate).\n",
        "\n",
        "Hints:\n",
        "\n",
        "- The training should be really quick so if you notice that each epoch is taking more than a few seconds, consider trying a different architecture.\n",
        "\n",
        "\n",
        "- If after the first epoch you get an output like this: loss: nan - mae: nan it is very likely that your network is suffering from exploding gradients. This is a common problem if you used SGD as optimizer and set a learning rate that is too high. If you encounter this problem consider lowering the learning rate or using Adam with the default learning rate."
      ]
    },
    {
      "cell_type": "code",
      "execution_count": null,
      "metadata": {
        "deletable": false,
        "id": "TaLTeWnHGV3f"
      },
      "outputs": [],
      "source": [
        "def create_model():\n",
        "\n",
        "\n",
        "    model = create_uncompiled_model()\n",
        "\n",
        "    ### START CODE HERE\n",
        "\n",
        "    model.compile(loss=tf.keras.losses.Huber(),\n",
        "                  optimizer=tf.keras.optimizers.SGD(learning_rate=1e-5, momentum=0.9),\n",
        "                  metrics=[\"mae\"])\n",
        "\n",
        "\n",
        "    ### END CODE HERE\n",
        "\n",
        "    return model"
      ]
    },
    {
      "cell_type": "code",
      "execution_count": null,
      "metadata": {
        "deletable": false,
        "scrolled": true,
        "id": "JLSbUIRnGV3g",
        "outputId": "29031896-9d36-4315-9f8c-83e848dac5a6"
      },
      "outputs": [
        {
          "name": "stdout",
          "output_type": "stream",
          "text": [
            "Epoch 1/50\n",
            "77/77 [==============================] - 15s 133ms/step - loss: 3.1678 - mae: 3.6361\n",
            "Epoch 2/50\n",
            "77/77 [==============================] - 10s 132ms/step - loss: 2.2730 - mae: 2.7313\n",
            "Epoch 3/50\n",
            "77/77 [==============================] - 12s 148ms/step - loss: 2.0128 - mae: 2.4692\n",
            "Epoch 4/50\n",
            "77/77 [==============================] - 11s 140ms/step - loss: 1.8391 - mae: 2.2909\n",
            "Epoch 5/50\n",
            "77/77 [==============================] - 11s 135ms/step - loss: 1.9515 - mae: 2.4105\n",
            "Epoch 6/50\n",
            "77/77 [==============================] - 10s 132ms/step - loss: 2.0343 - mae: 2.4913\n",
            "Epoch 7/50\n",
            "77/77 [==============================] - 10s 125ms/step - loss: 1.7456 - mae: 2.1927\n",
            "Epoch 8/50\n",
            "77/77 [==============================] - 10s 128ms/step - loss: 1.7855 - mae: 2.2342\n",
            "Epoch 9/50\n",
            "77/77 [==============================] - 10s 126ms/step - loss: 1.8732 - mae: 2.3264\n",
            "Epoch 10/50\n",
            "77/77 [==============================] - 10s 126ms/step - loss: 1.7454 - mae: 2.1956\n",
            "Epoch 11/50\n",
            "77/77 [==============================] - 10s 125ms/step - loss: 1.7389 - mae: 2.1884\n",
            "Epoch 12/50\n",
            "77/77 [==============================] - 10s 125ms/step - loss: 1.6868 - mae: 2.1357\n",
            "Epoch 13/50\n",
            "77/77 [==============================] - 10s 126ms/step - loss: 1.8711 - mae: 2.3238\n",
            "Epoch 14/50\n",
            "77/77 [==============================] - 10s 127ms/step - loss: 1.7939 - mae: 2.2491\n",
            "Epoch 15/50\n",
            "77/77 [==============================] - 10s 126ms/step - loss: 1.7880 - mae: 2.2410\n",
            "Epoch 16/50\n",
            "77/77 [==============================] - 10s 126ms/step - loss: 1.7248 - mae: 2.1743\n",
            "Epoch 17/50\n",
            "77/77 [==============================] - 10s 125ms/step - loss: 1.8250 - mae: 2.2780\n",
            "Epoch 18/50\n",
            "77/77 [==============================] - 10s 126ms/step - loss: 1.7504 - mae: 2.1973\n",
            "Epoch 19/50\n",
            "77/77 [==============================] - 10s 127ms/step - loss: 1.8960 - mae: 2.3502\n",
            "Epoch 20/50\n",
            "77/77 [==============================] - 10s 128ms/step - loss: 1.7205 - mae: 2.1716\n",
            "Epoch 21/50\n",
            "77/77 [==============================] - 10s 125ms/step - loss: 1.7141 - mae: 2.1619\n",
            "Epoch 22/50\n",
            "77/77 [==============================] - 10s 125ms/step - loss: 1.7096 - mae: 2.1569\n",
            "Epoch 23/50\n",
            "77/77 [==============================] - 10s 125ms/step - loss: 1.8289 - mae: 2.2816\n",
            "Epoch 24/50\n",
            "77/77 [==============================] - 10s 126ms/step - loss: 2.0229 - mae: 2.4806\n",
            "Epoch 25/50\n",
            "77/77 [==============================] - 10s 128ms/step - loss: 1.7560 - mae: 2.2066\n",
            "Epoch 26/50\n",
            "77/77 [==============================] - 10s 128ms/step - loss: 1.6382 - mae: 2.0862\n",
            "Epoch 27/50\n",
            "77/77 [==============================] - 10s 129ms/step - loss: 1.7253 - mae: 2.1748\n",
            "Epoch 28/50\n",
            "77/77 [==============================] - 10s 133ms/step - loss: 1.6683 - mae: 2.1204\n",
            "Epoch 29/50\n",
            "77/77 [==============================] - 11s 139ms/step - loss: 1.8022 - mae: 2.2549\n",
            "Epoch 30/50\n",
            "77/77 [==============================] - 10s 126ms/step - loss: 1.7191 - mae: 2.1722\n",
            "Epoch 31/50\n",
            "77/77 [==============================] - 10s 129ms/step - loss: 1.6839 - mae: 2.1332\n",
            "Epoch 32/50\n",
            "77/77 [==============================] - 10s 127ms/step - loss: 1.7119 - mae: 2.1596\n",
            "Epoch 33/50\n",
            "77/77 [==============================] - 10s 126ms/step - loss: 1.6346 - mae: 2.0843\n",
            "Epoch 34/50\n",
            "77/77 [==============================] - 10s 126ms/step - loss: 1.6309 - mae: 2.0791\n",
            "Epoch 35/50\n",
            "77/77 [==============================] - 10s 126ms/step - loss: 1.6193 - mae: 2.0646\n",
            "Epoch 36/50\n",
            "77/77 [==============================] - 10s 134ms/step - loss: 1.6570 - mae: 2.1060\n",
            "Epoch 37/50\n",
            "77/77 [==============================] - 11s 139ms/step - loss: 1.8168 - mae: 2.2687\n",
            "Epoch 38/50\n",
            "77/77 [==============================] - 10s 131ms/step - loss: 1.7934 - mae: 2.2453\n",
            "Epoch 39/50\n",
            "77/77 [==============================] - 10s 126ms/step - loss: 1.7425 - mae: 2.1939\n",
            "Epoch 40/50\n",
            "77/77 [==============================] - 10s 129ms/step - loss: 1.7175 - mae: 2.1682\n",
            "Epoch 41/50\n",
            "77/77 [==============================] - 10s 128ms/step - loss: 1.6523 - mae: 2.0985\n",
            "Epoch 42/50\n",
            "77/77 [==============================] - 10s 128ms/step - loss: 1.6959 - mae: 2.1455\n",
            "Epoch 43/50\n",
            "77/77 [==============================] - 10s 128ms/step - loss: 1.6447 - mae: 2.0956\n",
            "Epoch 44/50\n",
            "77/77 [==============================] - 10s 130ms/step - loss: 1.6164 - mae: 2.0614\n",
            "Epoch 45/50\n",
            "77/77 [==============================] - 10s 125ms/step - loss: 1.8347 - mae: 2.2890\n",
            "Epoch 46/50\n",
            "77/77 [==============================] - 10s 129ms/step - loss: 1.6191 - mae: 2.0675\n",
            "Epoch 47/50\n",
            "77/77 [==============================] - 10s 126ms/step - loss: 1.5800 - mae: 2.0242\n",
            "Epoch 48/50\n",
            "77/77 [==============================] - 10s 128ms/step - loss: 1.6582 - mae: 2.1041\n",
            "Epoch 49/50\n",
            "77/77 [==============================] - 10s 129ms/step - loss: 1.6062 - mae: 2.0531\n",
            "Epoch 50/50\n",
            "77/77 [==============================] - 10s 126ms/step - loss: 1.6610 - mae: 2.1076\n"
          ]
        }
      ],
      "source": [
        "# Save an instance of the model\n",
        "model = create_model()\n",
        "\n",
        "# Train it\n",
        "history = model.fit(train_set, epochs=50)"
      ]
    },
    {
      "cell_type": "markdown",
      "metadata": {
        "id": "siXxJW7JGV3h"
      },
      "source": [
        "## Evaluating the forecast\n",
        "\n",
        "Now it is time to evaluate the performance of the forecast. For this you can use the `compute_metrics` function that you coded in a previous assignment:"
      ]
    },
    {
      "cell_type": "code",
      "execution_count": null,
      "metadata": {
        "deletable": false,
        "editable": false,
        "id": "fsxK0oL2GV3h"
      },
      "outputs": [],
      "source": [
        "def compute_metrics(true_series, forecast):\n",
        "\n",
        "    mse = tf.keras.metrics.mean_squared_error(true_series, forecast).numpy()\n",
        "    mae = tf.keras.metrics.mean_absolute_error(true_series, forecast).numpy()\n",
        "\n",
        "    return mse, mae"
      ]
    },
    {
      "cell_type": "markdown",
      "metadata": {
        "id": "_sQ5iRdWGV3j"
      },
      "source": [
        "At this point only the model that will perform the forecast is ready but you still need to compute the actual forecast.\n",
        "\n"
      ]
    },
    {
      "cell_type": "markdown",
      "metadata": {
        "id": "HeOLYIDhGV3k"
      },
      "source": [
        "## Faster model forecasts\n",
        "\n",
        "In the previous week you saw a faster approach compared to using a for loop to compute the forecasts for every point in the sequence. Remember that this faster approach uses batches of data.\n",
        "\n",
        "The code to implement this is provided in the `model_forecast` below. Notice that the code is very similar to the one in the `windowed_dataset` function with the differences that:\n",
        "- The dataset is windowed using `window_size` rather than `window_size + 1`\n",
        "- No shuffle should be used\n",
        "- No need to split the data into features and labels\n",
        "- A model is used to predict batches of the dataset"
      ]
    },
    {
      "cell_type": "code",
      "execution_count": null,
      "metadata": {
        "deletable": false,
        "editable": false,
        "id": "4XwGrf-A_wF0"
      },
      "outputs": [],
      "source": [
        "def model_forecast(model, series, window_size):\n",
        "    ds = tf.data.Dataset.from_tensor_slices(series)\n",
        "    ds = ds.window(window_size, shift=1, drop_remainder=True)\n",
        "    ds = ds.flat_map(lambda w: w.batch(window_size))\n",
        "    ds = ds.batch(32).prefetch(1)\n",
        "    forecast = model.predict(ds)\n",
        "    return forecast"
      ]
    },
    {
      "cell_type": "markdown",
      "metadata": {
        "id": "7XxwEuoZGV3n"
      },
      "source": [
        "Now compute the actual forecast:\n",
        "\n",
        "**Note:** Don't modify the cell below.\n",
        "\n",
        "The grader uses the same slicing to get the forecast so if you change the cell below you risk having issues when submitting your model for grading."
      ]
    },
    {
      "cell_type": "code",
      "execution_count": null,
      "metadata": {
        "colab": {
          "base_uri": "https://localhost:8080/",
          "height": 389
        },
        "deletable": false,
        "editable": false,
        "id": "PrktQX3hKYex",
        "outputId": "1914662d-6bdd-4e17-8697-8f5a29e89b87"
      },
      "outputs": [
        {
          "data": {
            "image/png": "[encoded data removed]",
            "text/plain": [
              "<Figure size 720x432 with 1 Axes>"
            ]
          },
          "metadata": {
            "needs_background": "light"
          },
          "output_type": "display_data"
        }
      ],
      "source": [
        "# Compute the forecast for all the series\n",
        "rnn_forecast = model_forecast(model, G.SERIES, G.WINDOW_SIZE).squeeze()\n",
        "\n",
        "# Slice the forecast to get only the predictions for the validation set\n",
        "rnn_forecast = rnn_forecast[G.SPLIT_TIME - G.WINDOW_SIZE:-1]\n",
        "\n",
        "# Plot the forecast\n",
        "plt.figure(figsize=(10, 6))\n",
        "plot_series(time_valid, series_valid)\n",
        "plot_series(time_valid, rnn_forecast)"
      ]
    },
    {
      "cell_type": "code",
      "execution_count": null,
      "metadata": {
        "deletable": false,
        "editable": false,
        "id": "fYVa1_DcGV3p",
        "outputId": "d77286c4-9b8a-4456-88de-e1f24f056040"
      },
      "outputs": [
        {
          "name": "stdout",
          "output_type": "stream",
          "text": [
            "mse: 5.49, mae: 1.83 for forecast\n"
          ]
        }
      ],
      "source": [
        "mse, mae = compute_metrics(series_valid, rnn_forecast)\n",
        "\n",
        "print(f\"mse: {mse:.2f}, mae: {mae:.2f} for forecast\")"
      ]
    },
    {
      "cell_type": "markdown",
      "metadata": {
        "id": "nhFXFGWQGV3q"
      },
      "source": [
        "**To pass this assignment your forecast should achieve a MSE of 6 or less and a MAE of 2 or less.**\n",
        "\n",
        "- If your forecast didn't achieve this threshold try re-training your model with a different architecture (you will need to re-run both `create_uncompiled_model` and `create_model` functions) or tweaking the optimizer's parameters.\n",
        "\n",
        "\n",
        "- If your forecast did achieve this threshold run the following cell to save the model in the SavedModel format which will be used for grading and after doing so, submit your assigment for grading.\n",
        "\n",
        "\n",
        "- This environment includes a dummy SavedModel directory which contains a dummy model trained for one epoch. **To replace this file with your actual model you need to run the next cell before submitting for grading.**"
      ]
    },
    {
      "cell_type": "code",
      "execution_count": null,
      "metadata": {
        "deletable": false,
        "editable": false,
        "id": "wbnc6k_7GV3r",
        "outputId": "549ac2f4-428c-4a5a-bcc5-f9833a66979d"
      },
      "outputs": [
        {
          "name": "stdout",
          "output_type": "stream",
          "text": [
            "INFO:tensorflow:Assets written to: saved_model/my_model/assets\n"
          ]
        },
        {
          "name": "stderr",
          "output_type": "stream",
          "text": [
            "INFO:tensorflow:Assets written to: saved_model/my_model/assets\n"
          ]
        },
        {
          "name": "stdout",
          "output_type": "stream",
          "text": [
            "saved_model/\n",
            "saved_model/my_model/\n",
            "saved_model/my_model/keras_metadata.pb\n",
            "saved_model/my_model/variables/\n",
            "saved_model/my_model/variables/variables.data-00000-of-00001\n",
            "saved_model/my_model/variables/variables.index\n",
            "saved_model/my_model/saved_model.pb\n",
            "saved_model/my_model/assets/\n"
          ]
        }
      ],
      "source": [
        "# Save your model in the SavedModel format\n",
        "model.save('saved_model/my_model')\n",
        "\n",
        "# Compress the directory using tar\n",
        "! tar -czvf saved_model.tar.gz saved_model/"
      ]
    },
    {
      "cell_type": "markdown",
      "metadata": {
        "id": "53DMpx4tGV3s"
      },
      "source": [
        "**Congratulations on finishing this week's assignment!**\n",
        "\n",
        "You have successfully implemented a neural network capable of forecasting time series leveraging a combination of Tensorflow's layers such as Convolutional and LSTMs! This resulted in a forecast that surpasses all the ones you did previously.\n",
        "\n",
        "**By finishing this assignment you have finished the specialization! Give yourself a pat on the back!!!**"
      ]
    },
    {
      "cell_type": "markdown",
      "metadata": {
        "id": "jzxJy8iZGV3t"
      },
      "source": [
        "<details>\n",
        "  <summary><font size=\"2\" color=\"darkgreen\"><b>Please click here if you want to experiment with any of the non-graded code.</b></font></summary>\n",
        "    <p><i><b>Important Note: Please only do this when you've already passed the assignment to avoid problems with the autograder.</b></i>\n",
        "    <ol>\n",
        "        <li> On the notebook’s menu, click “View” > “Cell Toolbar” > “Edit Metadata”</li>\n",
        "        <li> Hit the “Edit Metadata” button next to the code cell which you want to lock/unlock</li>\n",
        "        <li> Set the attribute value for “editable” to:\n",
        "            <ul>\n",
        "                <li> “true” if you want to unlock it </li>\n",
        "                <li> “false” if you want to lock it </li>\n",
        "            </ul>\n",
        "        </li>\n",
        "        <li> On the notebook’s menu, click “View” > “Cell Toolbar” > “None” </li>\n",
        "    </ol>\n",
        "    <p> Here's a short demo of how to do the steps above:\n",
        "        <br>\n",
        "        <img src=\"https://drive.google.com/uc?export=view&id=14Xy_Mb17CZVgzVAgq7NCjMVBvSae3xO1\" align=\"center\">\n",
        "</details>"
      ]
    }
  ],
  "metadata": {
    "kernelspec": {
      "display_name": "Python 3",
      "language": "python",
      "name": "python3"
    },
    "language_info": {
      "codemirror_mode": {
        "name": "ipython",
        "version": 3
      },
      "file_extension": ".py",
      "mimetype": "text/x-python",
      "name": "python",
      "nbconvert_exporter": "python",
      "pygments_lexer": "ipython3",
      "version": "3.8.8"
    },
    "colab": {
      "provenance": [],
      "include_colab_link": true
    }
  },
  "nbformat": 4,
  "nbformat_minor": 0
}